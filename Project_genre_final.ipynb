{
 "cells": [
  {
   "cell_type": "markdown",
   "metadata": {},
   "source": [
    "### Classify movies genres from text data"
   ]
  },
  {
   "cell_type": "markdown",
   "metadata": {},
   "source": [
    "For this project I used data from Imdb.com website. The goal of this project is to try and see if it is possible to classify movies genres from text data.\n",
    "\n",
    "The data I am going to use is scraped from IMDB. There are two movie descriptions on the website:\n",
    "\n",
    "- Short summary which is 50-200 symbols long.\n",
    "- Synopsis which is 500-10000 symbols long.\n",
    "\n",
    "Dataset contains much more summaries while synopsises contain more information. Lets experiment with both and see which one works better.\n",
    "\n",
    "This is a multilabel classification problem which means that more than one genre can be assigned to a movie. To solve this problem I am going to use Recurrent Neural Networks (RNN) with Keras.\n",
    "\n",
    "What needs to be done:\n",
    "\n",
    "- Clean text and get rid of stopwords.\n",
    "- Create bigrams and apply them to text.\n",
    "- Perform stemming and lemmatization.\n",
    "- Build vocabulary from text corpus and assign vectors to words usind Word2vec library.\n",
    "- One hot encode genres and transform texts into sequences of numbers.\n",
    "- Build a RNN model using LSTM hidden layers\n",
    "- Evaluate model on different levels of acceptance and find the best one."
   ]
  },
  {
   "cell_type": "markdown",
   "metadata": {},
   "source": [
    "## Load and clean Data"
   ]
  },
  {
   "cell_type": "code",
   "execution_count": 1,
   "metadata": {},
   "outputs": [],
   "source": [
    "import pandas as pd\n",
    "import numpy as np\n",
    "import matplotlib.pyplot as plt\n",
    "%matplotlib inline\n",
    "import seaborn as sns\n",
    "plt.style.use('seaborn')\n",
    "current_palette = sns.color_palette('deep')"
   ]
  },
  {
   "cell_type": "code",
   "execution_count": 2,
   "metadata": {
    "scrolled": true
   },
   "outputs": [
    {
     "name": "stderr",
     "output_type": "stream",
     "text": [
      "c:\\users\\13479\\anaconda3\\envs\\tf-gpu\\lib\\site-packages\\IPython\\core\\interactiveshell.py:3072: DtypeWarning: Columns (6) have mixed types.Specify dtype option on import or set low_memory=False.\n",
      "  interactivity=interactivity, compiler=compiler, result=result)\n"
     ]
    },
    {
     "data": {
      "text/html": [
       "<div>\n",
       "<style scoped>\n",
       "    .dataframe tbody tr th:only-of-type {\n",
       "        vertical-align: middle;\n",
       "    }\n",
       "\n",
       "    .dataframe tbody tr th {\n",
       "        vertical-align: top;\n",
       "    }\n",
       "\n",
       "    .dataframe thead th {\n",
       "        text-align: right;\n",
       "    }\n",
       "</style>\n",
       "<table border=\"1\" class=\"dataframe\">\n",
       "  <thead>\n",
       "    <tr style=\"text-align: right;\">\n",
       "      <th></th>\n",
       "      <th>title</th>\n",
       "      <th>year</th>\n",
       "      <th>mpaa</th>\n",
       "      <th>run_time</th>\n",
       "      <th>rating</th>\n",
       "      <th>ratings_count</th>\n",
       "      <th>budget</th>\n",
       "      <th>world_gross</th>\n",
       "      <th>genre</th>\n",
       "      <th>director</th>\n",
       "      <th>writer</th>\n",
       "      <th>actor</th>\n",
       "      <th>keywords</th>\n",
       "      <th>summary</th>\n",
       "      <th>synopsis</th>\n",
       "    </tr>\n",
       "  </thead>\n",
       "  <tbody>\n",
       "    <tr>\n",
       "      <th>0</th>\n",
       "      <td>Dama de noche</td>\n",
       "      <td>1993</td>\n",
       "      <td>NaN</td>\n",
       "      <td>NaN</td>\n",
       "      <td>6.2</td>\n",
       "      <td>20</td>\n",
       "      <td>NaN</td>\n",
       "      <td>NaN</td>\n",
       "      <td>['Drama', 'Mystery', 'Romance', 'Thriller']</td>\n",
       "      <td>Eva López Sánchez</td>\n",
       "      <td>Eva López Sánchez,David Martin del Campo(novel)</td>\n",
       "      <td>Rafael Sánchez Navarro,Cecilia Toussaint,Migue...</td>\n",
       "      <td>['f rated', 'older man younger woman relations...</td>\n",
       "      <td>Add a Plot»</td>\n",
       "      <td>It looks like we don't have a Synopsis for thi...</td>\n",
       "    </tr>\n",
       "    <tr>\n",
       "      <th>1</th>\n",
       "      <td>Kate &amp; Leopold</td>\n",
       "      <td>2001</td>\n",
       "      <td>PG-13</td>\n",
       "      <td>118123</td>\n",
       "      <td>6.4</td>\n",
       "      <td>77,418</td>\n",
       "      <td>4.8e+07</td>\n",
       "      <td>76019048.0</td>\n",
       "      <td>['Comedy', 'Fantasy', 'Romance']</td>\n",
       "      <td>James Mangold</td>\n",
       "      <td>Steven Rogers(story),James Mangold(screenplay)</td>\n",
       "      <td>Meg Ryan,Hugh Jackman,Liev Schreiber</td>\n",
       "      <td>['time travel', 'brooklyn bridge', 'bridge', '...</td>\n",
       "      <td>An English Duke from 1876 is inadvertedly drag...</td>\n",
       "      <td>In 1876, Leopold Alexis Elijah Walker Gareth T...</td>\n",
       "    </tr>\n",
       "    <tr>\n",
       "      <th>2</th>\n",
       "      <td>The Woman with the Knife</td>\n",
       "      <td>2010</td>\n",
       "      <td>NaN</td>\n",
       "      <td>80</td>\n",
       "      <td>6.6</td>\n",
       "      <td>10</td>\n",
       "      <td>NaN</td>\n",
       "      <td>NaN</td>\n",
       "      <td>['Drama', 'Thriller']</td>\n",
       "      <td>Bassori Timite</td>\n",
       "      <td>Bassori Timite(as Timité Bassori)</td>\n",
       "      <td>Bassori Timite,Mary Vieyra,Danielle Alloh</td>\n",
       "      <td>['sexual']</td>\n",
       "      <td>A young man returns from Europe obsessed with ...</td>\n",
       "      <td>It looks like we don't have a Synopsis for thi...</td>\n",
       "    </tr>\n",
       "    <tr>\n",
       "      <th>3</th>\n",
       "      <td>Vojtech, receny sirotek</td>\n",
       "      <td>1990</td>\n",
       "      <td>NaN</td>\n",
       "      <td>80</td>\n",
       "      <td>6.5</td>\n",
       "      <td>24</td>\n",
       "      <td>NaN</td>\n",
       "      <td>NaN</td>\n",
       "      <td>['Drama']</td>\n",
       "      <td>Zdenek Tyc</td>\n",
       "      <td>Jaromir Kacer(screenplay),Jirí Soukup(screenplay)</td>\n",
       "      <td>Petr Forman,Barbora Lukesová,Jana Riháková</td>\n",
       "      <td>['skinny dipping', 'male nudity', 'male fronta...</td>\n",
       "      <td>Add a Plot»</td>\n",
       "      <td>It looks like we don't have a Synopsis for thi...</td>\n",
       "    </tr>\n",
       "    <tr>\n",
       "      <th>4</th>\n",
       "      <td>Ucho</td>\n",
       "      <td>1990</td>\n",
       "      <td>NaN</td>\n",
       "      <td>94</td>\n",
       "      <td>7.8</td>\n",
       "      <td>2,367</td>\n",
       "      <td>NaN</td>\n",
       "      <td>NaN</td>\n",
       "      <td>['Drama', 'Thriller']</td>\n",
       "      <td>Karel Kachyna</td>\n",
       "      <td>Karel Kachyna,Jan Procházka(screenplay)</td>\n",
       "      <td>Jirina Bohdalová,Radoslav Brzobohatý,Gustav Op...</td>\n",
       "      <td>['czech new wave', 'sleeplessness', 'power fai...</td>\n",
       "      <td>After coming home from a Party gathering one n...</td>\n",
       "      <td>It looks like we don't have a Synopsis for thi...</td>\n",
       "    </tr>\n",
       "  </tbody>\n",
       "</table>\n",
       "</div>"
      ],
      "text/plain": [
       "                      title  year   mpaa run_time  rating ratings_count  \\\n",
       "0             Dama de noche  1993    NaN      NaN     6.2            20   \n",
       "1            Kate & Leopold  2001  PG-13   118123     6.4        77,418   \n",
       "2  The Woman with the Knife  2010    NaN       80     6.6            10   \n",
       "3   Vojtech, receny sirotek  1990    NaN       80     6.5            24   \n",
       "4                      Ucho  1990    NaN       94     7.8         2,367   \n",
       "\n",
       "    budget  world_gross                                        genre  \\\n",
       "0      NaN          NaN  ['Drama', 'Mystery', 'Romance', 'Thriller']   \n",
       "1  4.8e+07   76019048.0             ['Comedy', 'Fantasy', 'Romance']   \n",
       "2      NaN          NaN                        ['Drama', 'Thriller']   \n",
       "3      NaN          NaN                                    ['Drama']   \n",
       "4      NaN          NaN                        ['Drama', 'Thriller']   \n",
       "\n",
       "            director                                             writer  \\\n",
       "0  Eva López Sánchez    Eva López Sánchez,David Martin del Campo(novel)   \n",
       "1      James Mangold     Steven Rogers(story),James Mangold(screenplay)   \n",
       "2     Bassori Timite                  Bassori Timite(as Timité Bassori)   \n",
       "3         Zdenek Tyc  Jaromir Kacer(screenplay),Jirí Soukup(screenplay)   \n",
       "4      Karel Kachyna            Karel Kachyna,Jan Procházka(screenplay)   \n",
       "\n",
       "                                               actor  \\\n",
       "0  Rafael Sánchez Navarro,Cecilia Toussaint,Migue...   \n",
       "1               Meg Ryan,Hugh Jackman,Liev Schreiber   \n",
       "2          Bassori Timite,Mary Vieyra,Danielle Alloh   \n",
       "3         Petr Forman,Barbora Lukesová,Jana Riháková   \n",
       "4  Jirina Bohdalová,Radoslav Brzobohatý,Gustav Op...   \n",
       "\n",
       "                                            keywords  \\\n",
       "0  ['f rated', 'older man younger woman relations...   \n",
       "1  ['time travel', 'brooklyn bridge', 'bridge', '...   \n",
       "2                                         ['sexual']   \n",
       "3  ['skinny dipping', 'male nudity', 'male fronta...   \n",
       "4  ['czech new wave', 'sleeplessness', 'power fai...   \n",
       "\n",
       "                                             summary  \\\n",
       "0                                        Add a Plot»   \n",
       "1  An English Duke from 1876 is inadvertedly drag...   \n",
       "2  A young man returns from Europe obsessed with ...   \n",
       "3                                        Add a Plot»   \n",
       "4  After coming home from a Party gathering one n...   \n",
       "\n",
       "                                            synopsis  \n",
       "0  It looks like we don't have a Synopsis for thi...  \n",
       "1  In 1876, Leopold Alexis Elijah Walker Gareth T...  \n",
       "2  It looks like we don't have a Synopsis for thi...  \n",
       "3  It looks like we don't have a Synopsis for thi...  \n",
       "4  It looks like we don't have a Synopsis for thi...  "
      ]
     },
     "execution_count": 2,
     "metadata": {},
     "output_type": "execute_result"
    }
   ],
   "source": [
    "df = pd.read_csv('imdb_data_update.csv')\n",
    "df.head()"
   ]
  },
  {
   "cell_type": "code",
   "execution_count": 3,
   "metadata": {},
   "outputs": [
    {
     "name": "stdout",
     "output_type": "stream",
     "text": [
      "<class 'pandas.core.frame.DataFrame'>\n",
      "RangeIndex: 96695 entries, 0 to 96694\n",
      "Data columns (total 15 columns):\n",
      " #   Column         Non-Null Count  Dtype  \n",
      "---  ------         --------------  -----  \n",
      " 0   title          96679 non-null  object \n",
      " 1   year           96695 non-null  object \n",
      " 2   mpaa           14875 non-null  object \n",
      " 3   run_time       80015 non-null  object \n",
      " 4   rating         96695 non-null  float64\n",
      " 5   ratings_count  96695 non-null  object \n",
      " 6   budget         28461 non-null  object \n",
      " 7   world_gross    32220 non-null  float64\n",
      " 8   genre          95463 non-null  object \n",
      " 9   director       96695 non-null  object \n",
      " 10  writer         96695 non-null  object \n",
      " 11  actor          96695 non-null  object \n",
      " 12  keywords       76765 non-null  object \n",
      " 13  summary        96695 non-null  object \n",
      " 14  synopsis       96695 non-null  object \n",
      "dtypes: float64(2), object(13)\n",
      "memory usage: 11.1+ MB\n"
     ]
    }
   ],
   "source": [
    "df.info()"
   ]
  },
  {
   "cell_type": "code",
   "execution_count": 4,
   "metadata": {},
   "outputs": [],
   "source": [
    "years = np.arange(1990, 2021)\n",
    "years = [str(year) for year in years] # getting rid of weird string values \n",
    "df = df[df['year'].isin(years)]\n",
    "df.year = df.year.astype('int64') # making year column a proper type"
   ]
  },
  {
   "cell_type": "code",
   "execution_count": 5,
   "metadata": {},
   "outputs": [],
   "source": [
    "def clean_summary(string):\n",
    "    \n",
    "    '''replaces unnecessary string from summary ending '''\n",
    "    \n",
    "    string = string.replace('...See full summary»', '').replace(\"\\'\", '')\n",
    "    return string"
   ]
  },
  {
   "cell_type": "code",
   "execution_count": 6,
   "metadata": {},
   "outputs": [],
   "source": [
    "df.summary = df.summary.apply(clean_summary)"
   ]
  },
  {
   "cell_type": "code",
   "execution_count": 7,
   "metadata": {},
   "outputs": [],
   "source": [
    "# df.rating = df.rating.apply(round_of_rating)\n",
    "# df.ratings_count = df.ratings_count.map(lambda x: x.replace(',', ''))\n",
    "# df.ratings_count = df.ratings_count.astype('int64')\n",
    "# df = df[df.ratings_count > 100]"
   ]
  },
  {
   "cell_type": "code",
   "execution_count": 8,
   "metadata": {},
   "outputs": [],
   "source": [
    "# make separate df for synopsis\n",
    "null = 'It looks like we don\\'t have a Synopsis for this title yet.Be the first to contribute! Just click the \"Edit page\" button at the bottom of the page or learn more in theSynopsis submission guide.'\n",
    "df_syn = df[df.synopsis != null].reset_index(drop=True)"
   ]
  },
  {
   "cell_type": "markdown",
   "metadata": {},
   "source": [
    "I am going to make two dataframes: one with short summaries and one with synopsises. "
   ]
  },
  {
   "cell_type": "code",
   "execution_count": 9,
   "metadata": {},
   "outputs": [],
   "source": [
    "df_tri = df[['genre','summary']]\n",
    "df_syn = df_syn[['genre', 'synopsis']]\n",
    "df_tri = df_tri.dropna()\n",
    "df_syn = df_syn.dropna()"
   ]
  },
  {
   "cell_type": "code",
   "execution_count": 10,
   "metadata": {},
   "outputs": [
    {
     "name": "stdout",
     "output_type": "stream",
     "text": [
      "<class 'pandas.core.frame.DataFrame'>\n",
      "Int64Index: 95218 entries, 0 to 96694\n",
      "Data columns (total 2 columns):\n",
      " #   Column   Non-Null Count  Dtype \n",
      "---  ------   --------------  ----- \n",
      " 0   genre    95218 non-null  object\n",
      " 1   summary  95218 non-null  object\n",
      "dtypes: object(2)\n",
      "memory usage: 2.2+ MB\n"
     ]
    }
   ],
   "source": [
    "df_tri.info()"
   ]
  },
  {
   "cell_type": "code",
   "execution_count": 11,
   "metadata": {},
   "outputs": [
    {
     "name": "stdout",
     "output_type": "stream",
     "text": [
      "<class 'pandas.core.frame.DataFrame'>\n",
      "Int64Index: 11429 entries, 0 to 11454\n",
      "Data columns (total 2 columns):\n",
      " #   Column    Non-Null Count  Dtype \n",
      "---  ------    --------------  ----- \n",
      " 0   genre     11429 non-null  object\n",
      " 1   synopsis  11429 non-null  object\n",
      "dtypes: object(2)\n",
      "memory usage: 267.9+ KB\n"
     ]
    }
   ],
   "source": [
    "df_syn.info()"
   ]
  },
  {
   "cell_type": "code",
   "execution_count": 12,
   "metadata": {},
   "outputs": [],
   "source": [
    "to_drop = 'Add a Plot»' # get rid of null values\n",
    "df_tri = df_tri[df_tri.summary != to_drop].reset_index(drop=True)"
   ]
  },
  {
   "cell_type": "code",
   "execution_count": 13,
   "metadata": {
    "scrolled": true
   },
   "outputs": [
    {
     "data": {
      "text/plain": [
       "86104"
      ]
     },
     "execution_count": 13,
     "metadata": {},
     "output_type": "execute_result"
    }
   ],
   "source": [
    "len(df_tri)"
   ]
  },
  {
   "cell_type": "markdown",
   "metadata": {},
   "source": [
    "## Text Cleaning"
   ]
  },
  {
   "cell_type": "code",
   "execution_count": 14,
   "metadata": {},
   "outputs": [],
   "source": [
    "import nltk"
   ]
  },
  {
   "cell_type": "code",
   "execution_count": 15,
   "metadata": {},
   "outputs": [],
   "source": [
    "from nltk.tokenize import word_tokenize\n",
    "from nltk.collocations import BigramCollocationFinder \n",
    "from nltk.metrics import BigramAssocMeasures\n",
    "from nltk.corpus import stopwords\n",
    "\n",
    "from nltk.stem import WordNetLemmatizer \n",
    "from nltk.stem import PorterStemmer\n",
    "from nltk.corpus import wordnet "
   ]
  },
  {
   "cell_type": "code",
   "execution_count": 16,
   "metadata": {},
   "outputs": [],
   "source": [
    "def tokenize(string, lemmatize=False, stem=False):\n",
    "    \n",
    "    '''removes stopwords, symbols and integers'''\n",
    "    \n",
    "    tokens = nltk.word_tokenize(string.replace(\"'\", \"\"))\n",
    "\n",
    "    tokens = [token.lower() for token in tokens if token.isalpha()]\n",
    "    \n",
    "    eng_stopwords = stopwords.words('english')\n",
    "    \n",
    "    tokens = [w for w in tokens if w not in eng_stopwords]\n",
    "    \n",
    "    if lemmatize:\n",
    "        tokens = lemmatize_list(tokens)\n",
    "        \n",
    "    if stem:\n",
    "        tokens = stem_list(tokens)\n",
    "\n",
    "    return tokens"
   ]
  },
  {
   "cell_type": "code",
   "execution_count": 17,
   "metadata": {},
   "outputs": [],
   "source": [
    "def clean_text(string, bigrams=None, lemmatize=False, stem=False):\n",
    "    \n",
    "    '''Cleans string and applies bigrams'''\n",
    "    \n",
    "    if bigrams:\n",
    "    \n",
    "        for k in bigrams:\n",
    "            string = string.lower().replace(k,bigrams[k])\n",
    "    \n",
    "    tokens = tokenize(string, lemmatize=lemmatize, stem=stem)\n",
    "    \n",
    "    [token for token in tokens if len(token)>2]\n",
    "    \n",
    "    tokens = ' '.join(tokens)\n",
    "    \n",
    "    return tokens"
   ]
  },
  {
   "cell_type": "code",
   "execution_count": 18,
   "metadata": {},
   "outputs": [],
   "source": [
    "def find_bigrams(text, num_of_bigrams=40):\n",
    "    \n",
    "    '''Finds bigrams in text\n",
    "       Returns phrases + bigrams in dictionary form'''\n",
    "    \n",
    "    tokens = tokenize(text)\n",
    "    \n",
    "    bigram_collocation = BigramCollocationFinder.from_words(tokens) \n",
    "    bigrams = bigram_collocation.nbest(BigramAssocMeasures.likelihood_ratio, num_of_bigrams) \n",
    "    \n",
    "    vals = [''.join(x) for x in bigrams]\n",
    "    keys = [' '.join(x) for x in bigrams]\n",
    "    \n",
    "    replacement_dict = {}\n",
    "    \n",
    "    for key, val in zip(keys, vals):\n",
    "        replacement_dict[key] = val\n",
    "    \n",
    "    return replacement_dict"
   ]
  },
  {
   "cell_type": "code",
   "execution_count": 19,
   "metadata": {},
   "outputs": [],
   "source": [
    "def lemmatize_list(words):\n",
    "    \n",
    "    '''lemmatizes words'''\n",
    "    \n",
    "    lemmatizer = WordNetLemmatizer()\n",
    "    lemma = [lemmatizer.lemmatize(x) for x in words]\n",
    "    \n",
    "    return lemma    "
   ]
  },
  {
   "cell_type": "code",
   "execution_count": 20,
   "metadata": {},
   "outputs": [],
   "source": [
    "def stem_list(words):\n",
    "    \n",
    "    '''Performs stemming'''\n",
    "    \n",
    "    ps = PorterStemmer()\n",
    "    \n",
    "    stemmed = [ps.stem(x) for x in words]\n",
    "    \n",
    "    return stemmed    "
   ]
  },
  {
   "cell_type": "markdown",
   "metadata": {},
   "source": [
    "## Summary cleaning"
   ]
  },
  {
   "cell_type": "code",
   "execution_count": 21,
   "metadata": {},
   "outputs": [],
   "source": [
    "# text = ' '.join(df_tri.summary)\n",
    "\n",
    "# bigrams = find_bigrams(text, 30)\n",
    "# print(bigrams)\n",
    "\n",
    "bigrams = {'high school': 'highschool', 'new york': 'newyork', 'los angeles': 'losangeles',\n",
    "           'falls love': 'fallslove', 'serial killer': 'serialkiller', 'small town': 'smalltown',\n",
    "           'young woman': 'youngwoman', 'young man': 'youngman', 'year old': 'yearold',\n",
    "           'best friend': 'bestfriend', 'hong kong': 'hongkong', 'one day': 'oneday',\n",
    "           'tells story': 'tellsstory', 'full synopsis': 'fullsynopsis', 'years ago': 'yearsago',\n",
    "           'road trip': 'roadtrip', 'revolves around': 'revolvesaround', 'york city': 'yorkcity',\n",
    "           'police officer': 'policeofficer', 'best friends': 'bestfriends', 'see full': 'seefull',\n",
    "           'years later': 'yearslater', 'united states': 'unitedstates', 'martial arts': 'martialarts',\n",
    "           'fall love': 'falllove', 'war ii': 'warii', 'true story': 'truestory', 'buenos aires': 'buenosaires',\n",
    "           'world war': 'worldwar', 'turned upside': 'turnedupside'}"
   ]
  },
  {
   "cell_type": "code",
   "execution_count": 22,
   "metadata": {},
   "outputs": [],
   "source": [
    "df_tri['summary'] = df_tri['summary'].map(lambda x: clean_text(x, bigrams=None,lemmatize=False, stem=False))\n",
    "\n",
    "df_tri['genre'] = df_tri['genre'].map(lambda x: clean_text(x))    "
   ]
  },
  {
   "cell_type": "code",
   "execution_count": 23,
   "metadata": {},
   "outputs": [
    {
     "data": {
      "text/html": [
       "<div>\n",
       "<style scoped>\n",
       "    .dataframe tbody tr th:only-of-type {\n",
       "        vertical-align: middle;\n",
       "    }\n",
       "\n",
       "    .dataframe tbody tr th {\n",
       "        vertical-align: top;\n",
       "    }\n",
       "\n",
       "    .dataframe thead th {\n",
       "        text-align: right;\n",
       "    }\n",
       "</style>\n",
       "<table border=\"1\" class=\"dataframe\">\n",
       "  <thead>\n",
       "    <tr style=\"text-align: right;\">\n",
       "      <th></th>\n",
       "      <th>genre</th>\n",
       "      <th>summary</th>\n",
       "    </tr>\n",
       "  </thead>\n",
       "  <tbody>\n",
       "    <tr>\n",
       "      <th>0</th>\n",
       "      <td>comedy fantasy romance</td>\n",
       "      <td>english duke inadvertedly dragged modern day n...</td>\n",
       "    </tr>\n",
       "    <tr>\n",
       "      <th>1</th>\n",
       "      <td>drama thriller</td>\n",
       "      <td>young man returns europe obsessed sexual inhib...</td>\n",
       "    </tr>\n",
       "    <tr>\n",
       "      <th>2</th>\n",
       "      <td>drama thriller</td>\n",
       "      <td>coming home party gathering one night czechosl...</td>\n",
       "    </tr>\n",
       "    <tr>\n",
       "      <th>3</th>\n",
       "      <td>drama</td>\n",
       "      <td>hollywood director emerges plans complete work...</td>\n",
       "    </tr>\n",
       "    <tr>\n",
       "      <th>4</th>\n",
       "      <td>comedy crime drama family</td>\n",
       "      <td>lonely emotionally neglected rich kid forms at...</td>\n",
       "    </tr>\n",
       "  </tbody>\n",
       "</table>\n",
       "</div>"
      ],
      "text/plain": [
       "                       genre  \\\n",
       "0     comedy fantasy romance   \n",
       "1             drama thriller   \n",
       "2             drama thriller   \n",
       "3                      drama   \n",
       "4  comedy crime drama family   \n",
       "\n",
       "                                             summary  \n",
       "0  english duke inadvertedly dragged modern day n...  \n",
       "1  young man returns europe obsessed sexual inhib...  \n",
       "2  coming home party gathering one night czechosl...  \n",
       "3  hollywood director emerges plans complete work...  \n",
       "4  lonely emotionally neglected rich kid forms at...  "
      ]
     },
     "execution_count": 23,
     "metadata": {},
     "output_type": "execute_result"
    }
   ],
   "source": [
    "df_tri.head()"
   ]
  },
  {
   "cell_type": "code",
   "execution_count": 24,
   "metadata": {},
   "outputs": [
    {
     "name": "stdout",
     "output_type": "stream",
     "text": [
      "based true story known great plane robbery tells story peter macari alias brown grand extortion scam steals cash\n"
     ]
    }
   ],
   "source": [
    "print(df_tri.loc[12, 'summary'])"
   ]
  },
  {
   "cell_type": "markdown",
   "metadata": {},
   "source": [
    "Let's deal with outliers"
   ]
  },
  {
   "cell_type": "code",
   "execution_count": 25,
   "metadata": {},
   "outputs": [],
   "source": [
    "def length(text):\n",
    "    \n",
    "    '''finds length of the text'''\n",
    "    \n",
    "    return len(text)"
   ]
  },
  {
   "cell_type": "code",
   "execution_count": 26,
   "metadata": {},
   "outputs": [],
   "source": [
    "df_tri['length'] = df_tri.summary.apply(length)"
   ]
  },
  {
   "cell_type": "code",
   "execution_count": 27,
   "metadata": {
    "scrolled": true
   },
   "outputs": [
    {
     "data": {
      "image/png": "[encoded data removed]",
      "text/plain": [
       "<Figure size 576x396 with 1 Axes>"
      ]
     },
     "metadata": {},
     "output_type": "display_data"
    }
   ],
   "source": [
    "df_tri.length.hist()# check text length distribution\n",
    "plt.xlabel('Summary length')\n",
    "plt.ylabel('No of summaries')\n",
    "plt.show()"
   ]
  },
  {
   "cell_type": "code",
   "execution_count": 28,
   "metadata": {},
   "outputs": [],
   "source": [
    "# get rid of small texts and outliers\n",
    "df_tri = df_tri[df_tri.length >= 40]\n",
    "df_tri = df_tri[df_tri.length < 200].reset_index(drop=True)"
   ]
  },
  {
   "cell_type": "code",
   "execution_count": 29,
   "metadata": {
    "scrolled": true
   },
   "outputs": [
    {
     "data": {
      "image/png": "[encoded data removed]",
      "text/plain": [
       "<Figure size 576x396 with 1 Axes>"
      ]
     },
     "metadata": {},
     "output_type": "display_data"
    }
   ],
   "source": [
    "df_tri.length.hist()\n",
    "plt.xlabel('Summary length')\n",
    "plt.ylabel('No of summaries')\n",
    "plt.show()"
   ]
  },
  {
   "cell_type": "code",
   "execution_count": 30,
   "metadata": {},
   "outputs": [
    {
     "name": "stdout",
     "output_type": "stream",
     "text": [
      "<class 'pandas.core.frame.DataFrame'>\n",
      "RangeIndex: 83996 entries, 0 to 83995\n",
      "Data columns (total 3 columns):\n",
      " #   Column   Non-Null Count  Dtype \n",
      "---  ------   --------------  ----- \n",
      " 0   genre    83996 non-null  object\n",
      " 1   summary  83996 non-null  object\n",
      " 2   length   83996 non-null  int64 \n",
      "dtypes: int64(1), object(2)\n",
      "memory usage: 1.9+ MB\n"
     ]
    }
   ],
   "source": [
    "df_tri.info()"
   ]
  },
  {
   "cell_type": "code",
   "execution_count": 31,
   "metadata": {},
   "outputs": [],
   "source": [
    "distrib = []\n",
    "for genre in df_tri.genre:\n",
    "    for i in genre.split():\n",
    "        distrib.append(i)\n",
    "        \n",
    "from collections import Counter\n",
    "\n",
    "distrib = dict(Counter(distrib).most_common())"
   ]
  },
  {
   "cell_type": "code",
   "execution_count": 32,
   "metadata": {},
   "outputs": [
    {
     "data": {
      "image/png": "[encoded data removed]",
      "text/plain": [
       "<Figure size 1008x576 with 1 Axes>"
      ]
     },
     "metadata": {},
     "output_type": "display_data"
    }
   ],
   "source": [
    "plt.figure(figsize=(14,8))\n",
    "sns.barplot(list(distrib.values()), list(distrib.keys()), orient='h')\n",
    "plt.xlabel('Number of movies', fontsize=14)\n",
    "plt.ylabel('Genre', fontsize=14)\n",
    "plt.title('Genre Frequency',fontsize=14)\n",
    "plt.yticks(fontsize=14)\n",
    "plt.show()\n"
   ]
  },
  {
   "cell_type": "code",
   "execution_count": 33,
   "metadata": {},
   "outputs": [],
   "source": [
    "# for ind, genre in enumerate(df_tri.genre):\n",
    "#     if len(genre.split()) == 0:\n",
    "#         print(ind)"
   ]
  },
  {
   "cell_type": "code",
   "execution_count": 34,
   "metadata": {},
   "outputs": [],
   "source": [
    "df_tri = df_tri[df_tri['genre'] != ''] #getting rid of empty strings"
   ]
  },
  {
   "cell_type": "markdown",
   "metadata": {},
   "source": [
    "## Trivia cleaning"
   ]
  },
  {
   "cell_type": "code",
   "execution_count": 35,
   "metadata": {},
   "outputs": [],
   "source": [
    "# text = ' '.join(df_syn.synopsis)\n",
    "\n",
    "# bigrams = find_bigrams(text, 30)\n",
    "# print(bigrams)\n",
    "\n",
    "bigrams = {'next day': 'nextday', 'new york': 'newyork', 'next morning': 'nextmorning', \n",
    "           'los angeles': 'losangeles', 'high school': 'highschool', 'doesnt want': 'doesntwant',\n",
    "           'even though': 'eventhough', 'best friend': 'bestfriend', 'years ago': 'yearsago',\n",
    "           'united states': 'unitedstates', 'one day': 'oneday', 'cell phone': 'cellphone',\n",
    "           'phone call': 'phonecall', 'york city': 'yorkcity', 'doesnt know': 'doesntknow',\n",
    "           'years later': 'yearslater', 'police officer': 'policeofficer', 'las vegas': 'lasvegas',\n",
    "           'returns home': 'returnshome', 'san francisco': 'sanfrancisco', 'young woman': 'youngwoman',\n",
    "           'parking lot': 'parkinglot', 'take care': 'takecare', 'first time': 'firsttime', 'young man': 'youngman',\n",
    "           'go back': 'goback', 'looks like': 'lookslike', 'still alive': 'stillalive', 'hong kong': 'hongkong',\n",
    "           'film ends': 'filmends'}"
   ]
  },
  {
   "cell_type": "code",
   "execution_count": 36,
   "metadata": {},
   "outputs": [],
   "source": [
    "df_syn['synopsis'] = df_syn['synopsis'].map(lambda x: clean_text(x, bigrams=None,lemmatize=False, stem=False))\n",
    "\n",
    "df_syn['genre'] = df_syn['genre'].map(lambda x: clean_text(x))"
   ]
  },
  {
   "cell_type": "code",
   "execution_count": 37,
   "metadata": {},
   "outputs": [
    {
     "data": {
      "image/png": "[encoded data removed]",
      "text/plain": [
       "<Figure size 1008x576 with 1 Axes>"
      ]
     },
     "metadata": {},
     "output_type": "display_data"
    }
   ],
   "source": [
    "distrib = []\n",
    "for genre in df_syn.genre:\n",
    "    for i in genre.split():\n",
    "        distrib.append(i)\n",
    "        \n",
    "from collections import Counter\n",
    "\n",
    "distrib = dict(Counter(distrib).most_common())\n",
    "\n",
    "plt.figure(figsize=(14,8))\n",
    "sns.barplot(list(distrib.values()), list(distrib.keys()), orient='h')\n",
    "plt.xlabel('Number of movies', fontsize=14)\n",
    "plt.ylabel('Genre', fontsize=14)\n",
    "plt.title('Genre Frequency',fontsize=14)\n",
    "plt.yticks(fontsize=14)\n",
    "plt.show()"
   ]
  },
  {
   "cell_type": "code",
   "execution_count": 38,
   "metadata": {},
   "outputs": [
    {
     "data": {
      "text/html": [
       "<div>\n",
       "<style scoped>\n",
       "    .dataframe tbody tr th:only-of-type {\n",
       "        vertical-align: middle;\n",
       "    }\n",
       "\n",
       "    .dataframe tbody tr th {\n",
       "        vertical-align: top;\n",
       "    }\n",
       "\n",
       "    .dataframe thead th {\n",
       "        text-align: right;\n",
       "    }\n",
       "</style>\n",
       "<table border=\"1\" class=\"dataframe\">\n",
       "  <thead>\n",
       "    <tr style=\"text-align: right;\">\n",
       "      <th></th>\n",
       "      <th>genre</th>\n",
       "      <th>synopsis</th>\n",
       "    </tr>\n",
       "  </thead>\n",
       "  <tbody>\n",
       "    <tr>\n",
       "      <th>0</th>\n",
       "      <td>comedy fantasy romance</td>\n",
       "      <td>leopold alexis elijah walker gareth thomas mou...</td>\n",
       "    </tr>\n",
       "    <tr>\n",
       "      <th>1</th>\n",
       "      <td>drama</td>\n",
       "      <td>vanishes covering african civil war roll film ...</td>\n",
       "    </tr>\n",
       "    <tr>\n",
       "      <th>2</th>\n",
       "      <td>horror mystery</td>\n",
       "      <td>sicily mob villagers drag five kicking screami...</td>\n",
       "    </tr>\n",
       "    <tr>\n",
       "      <th>3</th>\n",
       "      <td>drama</td>\n",
       "      <td>guy kills old lady turns</td>\n",
       "    </tr>\n",
       "    <tr>\n",
       "      <th>4</th>\n",
       "      <td>action</td>\n",
       "      <td>kat collins grown restless life rural utah dec...</td>\n",
       "    </tr>\n",
       "    <tr>\n",
       "      <th>5</th>\n",
       "      <td>drama</td>\n",
       "      <td>amber film photography collective decided work...</td>\n",
       "    </tr>\n",
       "    <tr>\n",
       "      <th>6</th>\n",
       "      <td>comedy</td>\n",
       "      <td>dont knooow cuz havnt seen mooovie</td>\n",
       "    </tr>\n",
       "    <tr>\n",
       "      <th>7</th>\n",
       "      <td>horror</td>\n",
       "      <td>father osullivan catholic priest lost faith ca...</td>\n",
       "    </tr>\n",
       "    <tr>\n",
       "      <th>8</th>\n",
       "      <td>horror</td>\n",
       "      <td>teacher vs student basketball game sally donne...</td>\n",
       "    </tr>\n",
       "    <tr>\n",
       "      <th>9</th>\n",
       "      <td>comedy horror</td>\n",
       "      <td>crawldaddy two kids travelling selling fine le...</td>\n",
       "    </tr>\n",
       "    <tr>\n",
       "      <th>10</th>\n",
       "      <td>adventure comedy fantasy</td>\n",
       "      <td>young beautiful virgin sheherazade catherine f...</td>\n",
       "    </tr>\n",
       "    <tr>\n",
       "      <th>11</th>\n",
       "      <td>comedy drama family romance</td>\n",
       "      <td>peter tom selleck michael steve guttenberg jac...</td>\n",
       "    </tr>\n",
       "    <tr>\n",
       "      <th>12</th>\n",
       "      <td>war</td>\n",
       "      <td>film opens scene islamic circumcision opening ...</td>\n",
       "    </tr>\n",
       "    <tr>\n",
       "      <th>13</th>\n",
       "      <td>action comedy war</td>\n",
       "      <td>set year jungle laos local communist peasant t...</td>\n",
       "    </tr>\n",
       "    <tr>\n",
       "      <th>14</th>\n",
       "      <td>drama romance</td>\n",
       "      <td>sexual infedelity blackmail murder suicide pla...</td>\n",
       "    </tr>\n",
       "    <tr>\n",
       "      <th>15</th>\n",
       "      <td>comedy romance</td>\n",
       "      <td>synopsis cult movies author danny peary fiftee...</td>\n",
       "    </tr>\n",
       "    <tr>\n",
       "      <th>16</th>\n",
       "      <td>action comedy crime drama mystery thriller</td>\n",
       "      <td>five years death albert ganz san francisco cop...</td>\n",
       "    </tr>\n",
       "    <tr>\n",
       "      <th>17</th>\n",
       "      <td>comedy fantasy horror thriller</td>\n",
       "      <td>photographer named jerry manley arrives venezu...</td>\n",
       "    </tr>\n",
       "    <tr>\n",
       "      <th>18</th>\n",
       "      <td>biography drama</td>\n",
       "      <td>malcolm sayer robin williams dedicated caring ...</td>\n",
       "    </tr>\n",
       "    <tr>\n",
       "      <th>19</th>\n",
       "      <td>adventure comedy western</td>\n",
       "      <td>pick part ii left doc christopher lloyd finish...</td>\n",
       "    </tr>\n",
       "  </tbody>\n",
       "</table>\n",
       "</div>"
      ],
      "text/plain": [
       "                                         genre  \\\n",
       "0                       comedy fantasy romance   \n",
       "1                                        drama   \n",
       "2                               horror mystery   \n",
       "3                                        drama   \n",
       "4                                       action   \n",
       "5                                        drama   \n",
       "6                                       comedy   \n",
       "7                                       horror   \n",
       "8                                       horror   \n",
       "9                                comedy horror   \n",
       "10                    adventure comedy fantasy   \n",
       "11                 comedy drama family romance   \n",
       "12                                         war   \n",
       "13                           action comedy war   \n",
       "14                               drama romance   \n",
       "15                              comedy romance   \n",
       "16  action comedy crime drama mystery thriller   \n",
       "17              comedy fantasy horror thriller   \n",
       "18                             biography drama   \n",
       "19                    adventure comedy western   \n",
       "\n",
       "                                             synopsis  \n",
       "0   leopold alexis elijah walker gareth thomas mou...  \n",
       "1   vanishes covering african civil war roll film ...  \n",
       "2   sicily mob villagers drag five kicking screami...  \n",
       "3                            guy kills old lady turns  \n",
       "4   kat collins grown restless life rural utah dec...  \n",
       "5   amber film photography collective decided work...  \n",
       "6                  dont knooow cuz havnt seen mooovie  \n",
       "7   father osullivan catholic priest lost faith ca...  \n",
       "8   teacher vs student basketball game sally donne...  \n",
       "9   crawldaddy two kids travelling selling fine le...  \n",
       "10  young beautiful virgin sheherazade catherine f...  \n",
       "11  peter tom selleck michael steve guttenberg jac...  \n",
       "12  film opens scene islamic circumcision opening ...  \n",
       "13  set year jungle laos local communist peasant t...  \n",
       "14  sexual infedelity blackmail murder suicide pla...  \n",
       "15  synopsis cult movies author danny peary fiftee...  \n",
       "16  five years death albert ganz san francisco cop...  \n",
       "17  photographer named jerry manley arrives venezu...  \n",
       "18  malcolm sayer robin williams dedicated caring ...  \n",
       "19  pick part ii left doc christopher lloyd finish...  "
      ]
     },
     "execution_count": 38,
     "metadata": {},
     "output_type": "execute_result"
    }
   ],
   "source": [
    "df_syn.head(20)"
   ]
  },
  {
   "cell_type": "markdown",
   "metadata": {},
   "source": [
    "The synopsis below is not very informative. I need to get rid of it and the ones like it."
   ]
  },
  {
   "cell_type": "code",
   "execution_count": 39,
   "metadata": {},
   "outputs": [
    {
     "name": "stdout",
     "output_type": "stream",
     "text": [
      "guy kills old lady turns\n"
     ]
    }
   ],
   "source": [
    "print(df_syn.loc[3, 'synopsis'])"
   ]
  },
  {
   "cell_type": "code",
   "execution_count": 40,
   "metadata": {},
   "outputs": [],
   "source": [
    "df_syn['length'] = df_syn.synopsis.apply(length) #separate column with length of the synopsis"
   ]
  },
  {
   "cell_type": "markdown",
   "metadata": {},
   "source": [
    "Let's take a look at length distribution. I am going to get rid of outliers as well as very short texts. This will balance our data and hopefully improve model's accuracy"
   ]
  },
  {
   "cell_type": "code",
   "execution_count": 41,
   "metadata": {},
   "outputs": [
    {
     "data": {
      "image/png": "[encoded data removed]",
      "text/plain": [
       "<Figure size 576x396 with 1 Axes>"
      ]
     },
     "metadata": {},
     "output_type": "display_data"
    }
   ],
   "source": [
    "df_syn.length.hist()\n",
    "plt.xlabel('synopsis length')\n",
    "plt.ylabel('No of synopsises')\n",
    "plt.show()"
   ]
  },
  {
   "cell_type": "code",
   "execution_count": 42,
   "metadata": {},
   "outputs": [],
   "source": [
    "df_syn = df_syn[df_syn.length >= 500]\n",
    "df_syn = df_syn[df_syn.length < 10000]"
   ]
  },
  {
   "cell_type": "code",
   "execution_count": 43,
   "metadata": {},
   "outputs": [
    {
     "data": {
      "image/png": "[encoded data removed]",
      "text/plain": [
       "<Figure size 576x396 with 1 Axes>"
      ]
     },
     "metadata": {},
     "output_type": "display_data"
    }
   ],
   "source": [
    "df_syn.length.hist()\n",
    "plt.xlabel('synopsis length')\n",
    "plt.ylabel('No of synopsises')\n",
    "plt.show()"
   ]
  },
  {
   "cell_type": "markdown",
   "metadata": {},
   "source": [
    "This looks a bit better. I am going to leave it as it is."
   ]
  },
  {
   "cell_type": "markdown",
   "metadata": {},
   "source": [
    "## Vectorize"
   ]
  },
  {
   "cell_type": "markdown",
   "metadata": {},
   "source": [
    "I am going to make my own vectors to feed into embedding layer"
   ]
  },
  {
   "cell_type": "code",
   "execution_count": 44,
   "metadata": {},
   "outputs": [
    {
     "data": {
      "text/plain": [
       "20"
      ]
     },
     "execution_count": 44,
     "metadata": {},
     "output_type": "execute_result"
    }
   ],
   "source": [
    "import multiprocessing\n",
    "from time import time\n",
    "from gensim.models import Word2Vec\n",
    "\n",
    "multiprocessing.cpu_count()"
   ]
  },
  {
   "cell_type": "code",
   "execution_count": 45,
   "metadata": {},
   "outputs": [],
   "source": [
    "def w2v_vocab_and_train(df):\n",
    "    \n",
    "    '''trains Word2Vec model on provided text corpus\n",
    "    returns Word2Vec model'''\n",
    "    \n",
    "    w2v_model = Word2Vec(min_count=1,\n",
    "                         window=5,\n",
    "                         size=128,\n",
    "                         sample=6e-5, \n",
    "                         alpha=0.03, \n",
    "                         min_alpha=0.0007, \n",
    "                         negative=20,\n",
    "                         workers=15)\n",
    "    t = time()\n",
    "\n",
    "    w2v_model.build_vocab(df, progress_per=10000)\n",
    "\n",
    "    print('Time to build vocab: {} mins'.format(round((time() - t) / 60, 2)))\n",
    "\n",
    "    t = time()\n",
    "\n",
    "    w2v_model.train(df_tri.summary, total_examples=w2v_model.corpus_count, epochs=30, report_delay=1)\n",
    "\n",
    "    print('Time to train the model: {} mins'.format(round((time() - t) / 60, 2)))\n",
    "    \n",
    "    w2v_model.init_sims(replace=True)\n",
    "    \n",
    "    vocab = w2v_model.wv.vocab\n",
    "    print('Total number of words : ', len(vocab))\n",
    "    \n",
    "    return w2v_model"
   ]
  },
  {
   "cell_type": "code",
   "execution_count": 46,
   "metadata": {},
   "outputs": [],
   "source": [
    "def embedding_matrix(df, w2v_model, vocab_size, embed_dim):\n",
    "    \n",
    "    '''Builds and embedding matrix from given dataframe to feed into embedding layer'''\n",
    "    \n",
    "    tok = Tokenizer()\n",
    "    \n",
    "    tok.fit_on_texts(df)\n",
    "    \n",
    "    vocab = w2v_model.wv.vocab\n",
    "    \n",
    "    words_vocab = list(vocab.keys())\n",
    "    \n",
    "    word_vec_dict = {}\n",
    "\n",
    "    for word in words_vocab:\n",
    "        word_vec_dict[word] = w2v_model.wv.get_vector(word) #creates word/vector dictionary\n",
    "\n",
    "    embed_matrix = np.zeros(shape=(vocab_size,embed_dim))#make a matrix of zeros \n",
    "    \n",
    "    #then replaces zeros with vectors learned by w2v model\n",
    "\n",
    "    for word,i in tok.word_index.items():\n",
    "        embed_vector = word_vec_dict.get(word)\n",
    "\n",
    "        if embed_vector is not None:\n",
    "            embed_matrix[i] = embed_vector\n",
    "\n",
    "    return embed_matrix"
   ]
  },
  {
   "cell_type": "markdown",
   "metadata": {},
   "source": [
    "## Preparing for modelling"
   ]
  },
  {
   "cell_type": "code",
   "execution_count": 47,
   "metadata": {},
   "outputs": [],
   "source": [
    "import tensorflow as tf\n",
    "physical_devices = tf.config.list_physical_devices('GPU') \n",
    "tf.config.experimental.set_memory_growth(physical_devices[0], True)"
   ]
  },
  {
   "cell_type": "code",
   "execution_count": 48,
   "metadata": {},
   "outputs": [],
   "source": [
    "from sklearn.model_selection import train_test_split,cross_validate\n",
    "from tensorflow.keras.utils import to_categorical\n",
    "from tensorflow.keras.preprocessing.text import one_hot,Tokenizer\n",
    "from tensorflow.keras.preprocessing.sequence import pad_sequences\n",
    "from tensorflow.keras.models import Sequential\n",
    "from tensorflow.keras.layers import Dropout, Dense , Flatten ,Embedding, Input, LSTM, Bidirectional, BatchNormalization, GlobalMaxPooling1D\n",
    "from tensorflow.keras.models import Model\n",
    "from tensorflow.keras.preprocessing.text import text_to_word_sequence\n",
    "from tensorflow.keras.optimizers import Adam\n",
    "\n",
    "from sklearn.preprocessing import MultiLabelBinarizer"
   ]
  },
  {
   "cell_type": "code",
   "execution_count": 49,
   "metadata": {},
   "outputs": [],
   "source": [
    "def one_hot_labels(labels):\n",
    "    \n",
    "    '''one hot encodes labels\n",
    "    returns df with labels as column names'''\n",
    "    \n",
    "    labels = labels.map(lambda x: x.split())\n",
    "    \n",
    "    one_hot = MultiLabelBinarizer()\n",
    "    one_hot_df = pd.DataFrame(one_hot.fit_transform(labels), columns=one_hot.classes_)\n",
    "    \n",
    "    return one_hot_df"
   ]
  },
  {
   "cell_type": "markdown",
   "metadata": {},
   "source": [
    "We need to find the maximum lenght of a text in our case. We will pad all reviews to have the same length. This will be required by Keras embedding layer."
   ]
  },
  {
   "cell_type": "code",
   "execution_count": 50,
   "metadata": {},
   "outputs": [],
   "source": [
    "def find_max_length(df):\n",
    "    \n",
    "    '''finds maximum length of the text in dataframe'''\n",
    "    \n",
    "    max_length = -1\n",
    "\n",
    "    for i in df:\n",
    "        if len(i) > max_length:\n",
    "            max_length = len(i)\n",
    "\n",
    "    return max_length"
   ]
  },
  {
   "cell_type": "markdown",
   "metadata": {},
   "source": [
    "Here we prepare and pad out text so our model could read it."
   ]
  },
  {
   "cell_type": "code",
   "execution_count": 51,
   "metadata": {},
   "outputs": [],
   "source": [
    "def sequence_and_pad(df):\n",
    "    \n",
    "    '''Turns all texts from df into numerical sequences then pads them to match the longest text'''\n",
    "    \n",
    "    max_length = find_max_length(df)\n",
    "    \n",
    "    tok = Tokenizer()\n",
    "    \n",
    "    tok.fit_on_texts(df)\n",
    "\n",
    "    encoded_summary = tok.texts_to_sequences(df)\n",
    "\n",
    "    pad_summary = pad_sequences(encoded_summary, maxlen=max_length, padding='post')\n",
    "    \n",
    "    return pad_summary"
   ]
  },
  {
   "cell_type": "markdown",
   "metadata": {},
   "source": [
    "## Trivia modelling"
   ]
  },
  {
   "cell_type": "code",
   "execution_count": 52,
   "metadata": {},
   "outputs": [],
   "source": [
    "df_tri.summary = df_tri.summary.map(lambda x: x.split())#make lists of words from our clean texts"
   ]
  },
  {
   "cell_type": "code",
   "execution_count": 53,
   "metadata": {},
   "outputs": [
    {
     "name": "stdout",
     "output_type": "stream",
     "text": [
      "Time to build vocab: 0.16 mins\n",
      "Time to train the model: 0.3 mins\n",
      "Total number of words :  75713\n"
     ]
    }
   ],
   "source": [
    "#train W2V model\n",
    "w2v_model = w2v_vocab_and_train(df_tri.summary)"
   ]
  },
  {
   "cell_type": "code",
   "execution_count": 54,
   "metadata": {},
   "outputs": [
    {
     "data": {
      "text/plain": [
       "[('high', 0.738111674785614),\n",
       " ('teachers', 0.7148510217666626),\n",
       " ('classmates', 0.7101846933364868),\n",
       " ('junior', 0.709505021572113),\n",
       " ('grade', 0.6884545087814331),\n",
       " ('teacher', 0.6767902374267578),\n",
       " ('elementary', 0.6733537912368774),\n",
       " ('seniors', 0.6731663942337036),\n",
       " ('classmate', 0.6651784181594849),\n",
       " ('schools', 0.6622570753097534)]"
      ]
     },
     "execution_count": 54,
     "metadata": {},
     "output_type": "execute_result"
    }
   ],
   "source": [
    "#just check if it's working\n",
    "w2v_model.wv.most_similar(positive=['school'])"
   ]
  },
  {
   "cell_type": "code",
   "execution_count": 55,
   "metadata": {},
   "outputs": [
    {
     "data": {
      "text/plain": [
       "array([ 0.05268456, -0.05823303,  0.04524685, -0.15890585, -0.18271904,\n",
       "       -0.08960468, -0.14431311,  0.09846552,  0.08014829, -0.0003235 ,\n",
       "       -0.03260517, -0.05539441,  0.05726688, -0.02519761,  0.05524447,\n",
       "        0.05170987, -0.02169576,  0.00094465,  0.03417141, -0.00645771,\n",
       "        0.06253369, -0.14309222,  0.01759904,  0.12740435, -0.10716701,\n",
       "       -0.14613675, -0.09703553,  0.04287345, -0.20310912,  0.15632968,\n",
       "       -0.02818059, -0.0488007 , -0.02833099,  0.01021304, -0.05144777,\n",
       "        0.04971348, -0.05420893,  0.06927659, -0.0134877 , -0.09162863,\n",
       "        0.01590047, -0.12283359, -0.05241814, -0.00368981,  0.02176867,\n",
       "       -0.0905138 , -0.16375637, -0.05842626, -0.11988176,  0.0514471 ,\n",
       "        0.02624454,  0.01664037, -0.01722308, -0.0576795 ,  0.06343875,\n",
       "        0.12269244, -0.06781248,  0.01576784, -0.10830003, -0.00194563,\n",
       "        0.02904638,  0.0242167 , -0.03571506, -0.00956072, -0.06438737,\n",
       "        0.00661366,  0.15578012, -0.09109946, -0.19013241, -0.01890888,\n",
       "       -0.01452723,  0.02359809, -0.16801871, -0.18565011, -0.12384521,\n",
       "       -0.16048004, -0.13643084, -0.0662178 ,  0.09053595, -0.00870784,\n",
       "       -0.01866168, -0.05981107, -0.09384219,  0.03425515,  0.04378958,\n",
       "       -0.03888407, -0.09603837, -0.0385837 ,  0.08398325, -0.0848322 ,\n",
       "        0.20859107,  0.02230113, -0.09743207,  0.0287877 ,  0.10510134,\n",
       "        0.02932431, -0.09600165, -0.11809215,  0.10661115, -0.00188968,\n",
       "        0.17927311,  0.01775833, -0.12087023,  0.10705082, -0.00310765,\n",
       "       -0.09604835,  0.01153161,  0.02198053, -0.00942089, -0.1189939 ,\n",
       "       -0.01726717, -0.05573974, -0.10459108, -0.05748715, -0.01849869,\n",
       "        0.05143578,  0.13579674, -0.11002883, -0.08303035, -0.08696937,\n",
       "       -0.07429437, -0.12310248,  0.14522335,  0.13610797, -0.03971722,\n",
       "       -0.12909621,  0.01705369, -0.01367814], dtype=float32)"
      ]
     },
     "execution_count": 55,
     "metadata": {},
     "output_type": "execute_result"
    }
   ],
   "source": [
    "w2v_model.wv.get_vector('like')"
   ]
  },
  {
   "cell_type": "markdown",
   "metadata": {},
   "source": [
    "Now we prepare everything for our model input"
   ]
  },
  {
   "cell_type": "code",
   "execution_count": 56,
   "metadata": {},
   "outputs": [],
   "source": [
    "max_length = find_max_length(df_tri.summary) #required NN model parameter\n",
    "\n",
    "vocab_size = len(w2v_model.wv.vocab) + 1 # total number of words\n",
    "\n",
    "embed_dim = 128 # length of our input layer\n",
    "\n",
    "n_classes = len(one_hot_labels(df_tri.genre).columns)# number of genres to predict\n",
    "\n",
    "embed_matrix = embedding_matrix(df_tri.summary, w2v_model, vocab_size, embed_dim) #our words with corresponding weights"
   ]
  },
  {
   "cell_type": "code",
   "execution_count": 57,
   "metadata": {},
   "outputs": [
    {
     "data": {
      "text/plain": [
       "(75714, 128)"
      ]
     },
     "execution_count": 57,
     "metadata": {},
     "output_type": "execute_result"
    }
   ],
   "source": [
    "embed_matrix.shape"
   ]
  },
  {
   "cell_type": "code",
   "execution_count": 58,
   "metadata": {},
   "outputs": [],
   "source": [
    "# prepare out train and validation data\n",
    "\n",
    "X = sequence_and_pad(df_tri.summary)\n",
    "y = one_hot_labels(df_tri.genre).values\n",
    "\n",
    "x_train, x_test, y_train, y_test = train_test_split(X, y, test_size=0.20, random_state=111)"
   ]
  },
  {
   "cell_type": "markdown",
   "metadata": {},
   "source": [
    "I am going to use Bidirectional LSTM layer as it proves to be one of the best at recognizing patterns in text data."
   ]
  },
  {
   "cell_type": "code",
   "execution_count": 59,
   "metadata": {},
   "outputs": [],
   "source": [
    "model = Sequential()\n",
    "\n",
    "model.add(Embedding(input_dim=vocab_size, output_dim=embed_dim, weights=[embed_matrix], input_length=max_length, trainable=False))\n",
    "\n",
    "model.add(Bidirectional(LSTM(32, return_sequences=True)))\n",
    "\n",
    "model.add(Dropout(0.3)) #drop random connections to prevent overfitting\n",
    "\n",
    "model.add(Bidirectional(LSTM(16)))\n",
    "\n",
    "model.add(Dropout(0.3))\n",
    "\n",
    "model.add(BatchNormalization())#Batch normalization offers some regularization effect, reducing generalization error\n",
    "\n",
    "model.add(Dense(n_classes, activation='sigmoid'))\n",
    "# sigmoid function give scores for the occurrence of genres, which would be independent of occurrences of any other movie genre\n",
    "\n",
    "model.compile(optimizer=Adam(0.001), loss='binary_crossentropy', metrics=['accuracy'])"
   ]
  },
  {
   "cell_type": "code",
   "execution_count": 60,
   "metadata": {},
   "outputs": [
    {
     "name": "stdout",
     "output_type": "stream",
     "text": [
      "Model: \"sequential\"\n",
      "_________________________________________________________________\n",
      "Layer (type)                 Output Shape              Param #   \n",
      "=================================================================\n",
      "embedding (Embedding)        (None, 38, 128)           9691392   \n",
      "_________________________________________________________________\n",
      "bidirectional (Bidirectional (None, 38, 64)            41216     \n",
      "_________________________________________________________________\n",
      "dropout (Dropout)            (None, 38, 64)            0         \n",
      "_________________________________________________________________\n",
      "bidirectional_1 (Bidirection (None, 32)                10368     \n",
      "_________________________________________________________________\n",
      "dropout_1 (Dropout)          (None, 32)                0         \n",
      "_________________________________________________________________\n",
      "batch_normalization (BatchNo (None, 32)                128       \n",
      "_________________________________________________________________\n",
      "dense (Dense)                (None, 22)                726       \n",
      "=================================================================\n",
      "Total params: 9,743,830\n",
      "Trainable params: 52,374\n",
      "Non-trainable params: 9,691,456\n",
      "_________________________________________________________________\n"
     ]
    }
   ],
   "source": [
    "model.summary()"
   ]
  },
  {
   "cell_type": "code",
   "execution_count": 61,
   "metadata": {},
   "outputs": [],
   "source": [
    "# specify batch size and epochs for training.\n",
    "epochs=25\n",
    "batch_size=128"
   ]
  },
  {
   "cell_type": "code",
   "execution_count": 62,
   "metadata": {
    "scrolled": true
   },
   "outputs": [
    {
     "name": "stdout",
     "output_type": "stream",
     "text": [
      "Train on 66984 samples, validate on 16746 samples\n",
      "Epoch 1/25\n",
      "66984/66984 [==============================] - 10s 142us/sample - loss: 0.3237 - accuracy: 0.8748 - val_loss: 0.2043 - val_accuracy: 0.9206\n",
      "Epoch 2/25\n",
      "66984/66984 [==============================] - 4s 62us/sample - loss: 0.1974 - accuracy: 0.9236 - val_loss: 0.1859 - val_accuracy: 0.9268\n",
      "Epoch 3/25\n",
      "66984/66984 [==============================] - 4s 64us/sample - loss: 0.1921 - accuracy: 0.9248 - val_loss: 0.1848 - val_accuracy: 0.9269\n",
      "Epoch 4/25\n",
      "66984/66984 [==============================] - 4s 62us/sample - loss: 0.1894 - accuracy: 0.9257 - val_loss: 0.1819 - val_accuracy: 0.9279\n",
      "Epoch 5/25\n",
      "66984/66984 [==============================] - 4s 63us/sample - loss: 0.1879 - accuracy: 0.9261 - val_loss: 0.1813 - val_accuracy: 0.9277\n",
      "Epoch 6/25\n",
      "66984/66984 [==============================] - 4s 62us/sample - loss: 0.1865 - accuracy: 0.9265 - val_loss: 0.1810 - val_accuracy: 0.9279\n",
      "Epoch 7/25\n",
      "66984/66984 [==============================] - 4s 62us/sample - loss: 0.1854 - accuracy: 0.9268 - val_loss: 0.1799 - val_accuracy: 0.9284\n",
      "Epoch 8/25\n",
      "66984/66984 [==============================] - 4s 63us/sample - loss: 0.1846 - accuracy: 0.9270 - val_loss: 0.1806 - val_accuracy: 0.9280\n",
      "Epoch 9/25\n",
      "66984/66984 [==============================] - 4s 63us/sample - loss: 0.1837 - accuracy: 0.9273 - val_loss: 0.1789 - val_accuracy: 0.9284\n",
      "Epoch 10/25\n",
      "66984/66984 [==============================] - 4s 63us/sample - loss: 0.1830 - accuracy: 0.9276 - val_loss: 0.1792 - val_accuracy: 0.9287\n",
      "Epoch 11/25\n",
      "66984/66984 [==============================] - 4s 63us/sample - loss: 0.1826 - accuracy: 0.9277 - val_loss: 0.1783 - val_accuracy: 0.9289\n",
      "Epoch 12/25\n",
      "66984/66984 [==============================] - 4s 63us/sample - loss: 0.1820 - accuracy: 0.9279 - val_loss: 0.1778 - val_accuracy: 0.9289\n",
      "Epoch 13/25\n",
      "66984/66984 [==============================] - 4s 62us/sample - loss: 0.1813 - accuracy: 0.9281 - val_loss: 0.1789 - val_accuracy: 0.9285\n",
      "Epoch 14/25\n",
      "66984/66984 [==============================] - 4s 62us/sample - loss: 0.1809 - accuracy: 0.9283 - val_loss: 0.1772 - val_accuracy: 0.9292\n",
      "Epoch 15/25\n",
      "66984/66984 [==============================] - 4s 62us/sample - loss: 0.1804 - accuracy: 0.9284 - val_loss: 0.1777 - val_accuracy: 0.9288\n",
      "Epoch 16/25\n",
      "66984/66984 [==============================] - 4s 63us/sample - loss: 0.1801 - accuracy: 0.9286 - val_loss: 0.1774 - val_accuracy: 0.9289\n",
      "Epoch 17/25\n",
      "66984/66984 [==============================] - 4s 62us/sample - loss: 0.1795 - accuracy: 0.9287 - val_loss: 0.1775 - val_accuracy: 0.9291\n",
      "Epoch 18/25\n",
      "66984/66984 [==============================] - 4s 62us/sample - loss: 0.1791 - accuracy: 0.9288 - val_loss: 0.1771 - val_accuracy: 0.9293\n",
      "Epoch 19/25\n",
      "66984/66984 [==============================] - 4s 63us/sample - loss: 0.1789 - accuracy: 0.9291 - val_loss: 0.1774 - val_accuracy: 0.9292\n",
      "Epoch 20/25\n",
      "66984/66984 [==============================] - 4s 63us/sample - loss: 0.1782 - accuracy: 0.9293 - val_loss: 0.1765 - val_accuracy: 0.9294\n",
      "Epoch 21/25\n",
      "66984/66984 [==============================] - 4s 63us/sample - loss: 0.1778 - accuracy: 0.9293 - val_loss: 0.1768 - val_accuracy: 0.9291\n",
      "Epoch 22/25\n",
      "66984/66984 [==============================] - 4s 64us/sample - loss: 0.1774 - accuracy: 0.9294 - val_loss: 0.1769 - val_accuracy: 0.9292\n",
      "Epoch 23/25\n",
      "66984/66984 [==============================] - 4s 63us/sample - loss: 0.1773 - accuracy: 0.9296 - val_loss: 0.1774 - val_accuracy: 0.9290\n",
      "Epoch 24/25\n",
      "66984/66984 [==============================] - 4s 63us/sample - loss: 0.1771 - accuracy: 0.9297 - val_loss: 0.1777 - val_accuracy: 0.9288\n",
      "Epoch 25/25\n",
      "66984/66984 [==============================] - 4s 62us/sample - loss: 0.1764 - accuracy: 0.9299 - val_loss: 0.1777 - val_accuracy: 0.9285\n"
     ]
    },
    {
     "data": {
      "text/plain": [
       "<tensorflow.python.keras.callbacks.History at 0x1bfb4dbbb08>"
      ]
     },
     "execution_count": 62,
     "metadata": {},
     "output_type": "execute_result"
    }
   ],
   "source": [
    "# fitting the model.\n",
    "model.fit(x_train,y_train, epochs=epochs,batch_size=batch_size,validation_data=(x_test,y_test))"
   ]
  },
  {
   "cell_type": "code",
   "execution_count": 63,
   "metadata": {},
   "outputs": [],
   "source": [
    "# model.save('my_model')"
   ]
  },
  {
   "cell_type": "code",
   "execution_count": 64,
   "metadata": {},
   "outputs": [
    {
     "data": {
      "text/plain": [
       "<AxesSubplot:>"
      ]
     },
     "execution_count": 64,
     "metadata": {},
     "output_type": "execute_result"
    },
    {
     "data": {
      "image/png": "[encoded data removed]",
      "text/plain": [
       "<Figure size 576x396 with 1 Axes>"
      ]
     },
     "metadata": {},
     "output_type": "display_data"
    }
   ],
   "source": [
    "loss = pd.DataFrame(model.history.history)\n",
    "loss[['loss', 'val_loss']][2:].plot()"
   ]
  },
  {
   "cell_type": "code",
   "execution_count": 65,
   "metadata": {},
   "outputs": [
    {
     "data": {
      "text/plain": [
       "<AxesSubplot:>"
      ]
     },
     "execution_count": 65,
     "metadata": {},
     "output_type": "execute_result"
    },
    {
     "data": {
      "image/png": "[encoded data removed]",
      "text/plain": [
       "<Figure size 576x396 with 1 Axes>"
      ]
     },
     "metadata": {},
     "output_type": "display_data"
    }
   ],
   "source": [
    "loss[['accuracy', 'val_accuracy']][2:].plot()"
   ]
  },
  {
   "cell_type": "markdown",
   "metadata": {},
   "source": [
    "Model shows nice validation accuracy. But what does it really mean for multiclass problem. Lets turn our results into text and compare with actual data."
   ]
  },
  {
   "cell_type": "code",
   "execution_count": 66,
   "metadata": {},
   "outputs": [],
   "source": [
    "# model = tf.keras.models.load_model('my_model')"
   ]
  },
  {
   "cell_type": "code",
   "execution_count": 67,
   "metadata": {},
   "outputs": [],
   "source": [
    "actual = y_test\n",
    "predictions = model.predict(x_test)"
   ]
  },
  {
   "cell_type": "markdown",
   "metadata": {},
   "source": [
    "Below we see a list of probabilities for our first summary. We need to find some level at which we can accept that this genre belongs to given movie.\n",
    "\n",
    "In order to do that I am going to use the F-score on different levels. The F-score is a way of combining the precision and recall of the model, and it is defined as the harmonic mean of the model's precision and recall."
   ]
  },
  {
   "cell_type": "code",
   "execution_count": 68,
   "metadata": {},
   "outputs": [
    {
     "data": {
      "text/plain": [
       "array([2.8271568e-03, 2.2094444e-04, 1.1243639e-02, 5.2079619e-03,\n",
       "       3.1314269e-03, 8.1895429e-01, 3.1268355e-03, 4.2614387e-03,\n",
       "       4.7618973e-01, 8.5983954e-02, 2.2908991e-02, 2.0684032e-03,\n",
       "       1.9871169e-03, 2.3338983e-02, 3.1978335e-02, 2.8604495e-03,\n",
       "       3.4027384e-05, 5.0346708e-01, 1.0495230e-02, 3.7066615e-03,\n",
       "       4.2533726e-04, 1.6305575e-04], dtype=float32)"
      ]
     },
     "execution_count": 68,
     "metadata": {},
     "output_type": "execute_result"
    }
   ],
   "source": [
    "predictions[1]"
   ]
  },
  {
   "cell_type": "code",
   "execution_count": 69,
   "metadata": {},
   "outputs": [],
   "source": [
    "def apply_trh(list_, treshold=0.3):\n",
    "    '''Applies filter to list of probabilities:\n",
    "    assignes 1 to items larger then threshold value, \n",
    "    assignes 0 to the rest.\n",
    "    Returns updated list'''\n",
    "    \n",
    "    out = []\n",
    "    for item in list_:\n",
    "        if item >= treshold:\n",
    "            out.append(1)\n",
    "        else:\n",
    "            out.append(0)\n",
    "    return out \n",
    "        "
   ]
  },
  {
   "cell_type": "code",
   "execution_count": 70,
   "metadata": {},
   "outputs": [
    {
     "name": "stdout",
     "output_type": "stream",
     "text": [
      "--------------------------------------------------\n",
      "F1-measure: 0.5171 for 0.1 threshold\n",
      "--------------------------------------------------\n",
      "F1-measure: 0.5764 for 0.2 threshold\n",
      "--------------------------------------------------\n",
      "F1-measure: 0.5797 for 0.3 threshold\n",
      "--------------------------------------------------\n",
      "F1-measure: 0.5546 for 0.4 threshold\n",
      "--------------------------------------------------\n",
      "F1-measure: 0.5039 for 0.5 threshold\n",
      "--------------------------------------------------\n",
      "F1-measure: 0.4219 for 0.6 threshold\n",
      "--------------------------------------------------\n",
      "F1-measure: 0.3165 for 0.7 threshold\n",
      "--------------------------------------------------\n",
      "F1-measure: 0.1952 for 0.8 threshold\n",
      "--------------------------------------------------\n",
      "F1-measure: 0.0742 for 0.9 threshold\n"
     ]
    }
   ],
   "source": [
    "from sklearn.metrics import f1_score\n",
    "\n",
    "preds = model.predict(x_test)\n",
    "thresholds = [0.1, 0.2, 0.3, 0.4, 0.5, 0.6, 0.7, 0.8, 0.9]\n",
    "for thr in thresholds:\n",
    "    pred = preds.copy()\n",
    "    \n",
    "    pred = [apply_trh(x,treshold=thr) for x in pred]\n",
    "  \n",
    "    f1 = f1_score(y_test, pred, average='micro')\n",
    "   \n",
    "    print('--------------------------------------------------')\n",
    "    print('F1-measure: {:.4f} for {} threshold'.format(f1, thr))"
   ]
  },
  {
   "cell_type": "code",
   "execution_count": 71,
   "metadata": {},
   "outputs": [],
   "source": [
    "predictions = [apply_trh(x) for x in predictions]\n",
    "genres = list(one_hot_labels(df_tri.genre).columns)"
   ]
  },
  {
   "cell_type": "code",
   "execution_count": 72,
   "metadata": {},
   "outputs": [],
   "source": [
    "def reverse_dummies(dummies):\n",
    "    '''reverse one hot encoded values\n",
    "    returns list of lists with values'''\n",
    "    \n",
    "    return  [i for i, j in zip(genres, dummies) if j == 1]\n",
    "\n",
    "predictions = [reverse_dummies(x) for x in predictions]\n",
    "actual = [reverse_dummies(x) for x in actual]"
   ]
  },
  {
   "cell_type": "code",
   "execution_count": 73,
   "metadata": {},
   "outputs": [],
   "source": [
    "actual_vs_preds = pd.DataFrame()\n",
    "actual_vs_preds['actual'] = actual\n",
    "actual_vs_preds['predictions'] = predictions"
   ]
  },
  {
   "cell_type": "code",
   "execution_count": 74,
   "metadata": {},
   "outputs": [
    {
     "data": {
      "text/html": [
       "<div>\n",
       "<style scoped>\n",
       "    .dataframe tbody tr th:only-of-type {\n",
       "        vertical-align: middle;\n",
       "    }\n",
       "\n",
       "    .dataframe tbody tr th {\n",
       "        vertical-align: top;\n",
       "    }\n",
       "\n",
       "    .dataframe thead th {\n",
       "        text-align: right;\n",
       "    }\n",
       "</style>\n",
       "<table border=\"1\" class=\"dataframe\">\n",
       "  <thead>\n",
       "    <tr style=\"text-align: right;\">\n",
       "      <th></th>\n",
       "      <th>actual</th>\n",
       "      <th>predictions</th>\n",
       "    </tr>\n",
       "  </thead>\n",
       "  <tbody>\n",
       "    <tr>\n",
       "      <th>0</th>\n",
       "      <td>[drama]</td>\n",
       "      <td>[adventure, drama, family]</td>\n",
       "    </tr>\n",
       "    <tr>\n",
       "      <th>1</th>\n",
       "      <td>[comedy, romance]</td>\n",
       "      <td>[comedy, drama, romance]</td>\n",
       "    </tr>\n",
       "    <tr>\n",
       "      <th>2</th>\n",
       "      <td>[action, adventure]</td>\n",
       "      <td>[action, comedy, crime, drama, thriller]</td>\n",
       "    </tr>\n",
       "    <tr>\n",
       "      <th>3</th>\n",
       "      <td>[drama]</td>\n",
       "      <td>[comedy, horror]</td>\n",
       "    </tr>\n",
       "    <tr>\n",
       "      <th>4</th>\n",
       "      <td>[horror]</td>\n",
       "      <td>[drama, horror]</td>\n",
       "    </tr>\n",
       "    <tr>\n",
       "      <th>5</th>\n",
       "      <td>[adventure, animation, comedy, family, fantasy]</td>\n",
       "      <td>[adventure, comedy]</td>\n",
       "    </tr>\n",
       "    <tr>\n",
       "      <th>6</th>\n",
       "      <td>[comedy, drama, romance]</td>\n",
       "      <td>[comedy, drama]</td>\n",
       "    </tr>\n",
       "    <tr>\n",
       "      <th>7</th>\n",
       "      <td>[drama]</td>\n",
       "      <td>[drama]</td>\n",
       "    </tr>\n",
       "    <tr>\n",
       "      <th>8</th>\n",
       "      <td>[comedy, music]</td>\n",
       "      <td>[documentary, music]</td>\n",
       "    </tr>\n",
       "    <tr>\n",
       "      <th>9</th>\n",
       "      <td>[horror, thriller]</td>\n",
       "      <td>[comedy, fantasy, horror]</td>\n",
       "    </tr>\n",
       "    <tr>\n",
       "      <th>10</th>\n",
       "      <td>[comedy, crime]</td>\n",
       "      <td>[comedy, crime, drama, thriller]</td>\n",
       "    </tr>\n",
       "    <tr>\n",
       "      <th>11</th>\n",
       "      <td>[comedy, mystery, romance]</td>\n",
       "      <td>[comedy, drama]</td>\n",
       "    </tr>\n",
       "    <tr>\n",
       "      <th>12</th>\n",
       "      <td>[drama]</td>\n",
       "      <td>[drama]</td>\n",
       "    </tr>\n",
       "    <tr>\n",
       "      <th>13</th>\n",
       "      <td>[drama, history]</td>\n",
       "      <td>[documentary, drama]</td>\n",
       "    </tr>\n",
       "    <tr>\n",
       "      <th>14</th>\n",
       "      <td>[horror]</td>\n",
       "      <td>[documentary, drama]</td>\n",
       "    </tr>\n",
       "    <tr>\n",
       "      <th>15</th>\n",
       "      <td>[horror, mystery]</td>\n",
       "      <td>[comedy, drama]</td>\n",
       "    </tr>\n",
       "    <tr>\n",
       "      <th>16</th>\n",
       "      <td>[drama, romance]</td>\n",
       "      <td>[comedy, drama]</td>\n",
       "    </tr>\n",
       "    <tr>\n",
       "      <th>17</th>\n",
       "      <td>[crime, drama, mystery, thriller]</td>\n",
       "      <td>[comedy, drama]</td>\n",
       "    </tr>\n",
       "    <tr>\n",
       "      <th>18</th>\n",
       "      <td>[drama]</td>\n",
       "      <td>[comedy, drama]</td>\n",
       "    </tr>\n",
       "    <tr>\n",
       "      <th>19</th>\n",
       "      <td>[drama, thriller]</td>\n",
       "      <td>[comedy, drama]</td>\n",
       "    </tr>\n",
       "    <tr>\n",
       "      <th>20</th>\n",
       "      <td>[thriller]</td>\n",
       "      <td>[drama, thriller]</td>\n",
       "    </tr>\n",
       "    <tr>\n",
       "      <th>21</th>\n",
       "      <td>[biography, documentary, family, history, sport]</td>\n",
       "      <td>[documentary, sport]</td>\n",
       "    </tr>\n",
       "    <tr>\n",
       "      <th>22</th>\n",
       "      <td>[drama, romance]</td>\n",
       "      <td>[drama, mystery, thriller]</td>\n",
       "    </tr>\n",
       "    <tr>\n",
       "      <th>23</th>\n",
       "      <td>[drama]</td>\n",
       "      <td>[comedy, drama]</td>\n",
       "    </tr>\n",
       "    <tr>\n",
       "      <th>24</th>\n",
       "      <td>[drama, fantasy, mystery]</td>\n",
       "      <td>[comedy, drama]</td>\n",
       "    </tr>\n",
       "    <tr>\n",
       "      <th>25</th>\n",
       "      <td>[horror]</td>\n",
       "      <td>[drama, horror, thriller]</td>\n",
       "    </tr>\n",
       "    <tr>\n",
       "      <th>26</th>\n",
       "      <td>[comedy, drama, thriller]</td>\n",
       "      <td>[comedy]</td>\n",
       "    </tr>\n",
       "    <tr>\n",
       "      <th>27</th>\n",
       "      <td>[drama]</td>\n",
       "      <td>[comedy, drama]</td>\n",
       "    </tr>\n",
       "    <tr>\n",
       "      <th>28</th>\n",
       "      <td>[romance]</td>\n",
       "      <td>[comedy, drama, romance]</td>\n",
       "    </tr>\n",
       "    <tr>\n",
       "      <th>29</th>\n",
       "      <td>[comedy, drama, family]</td>\n",
       "      <td>[comedy, drama]</td>\n",
       "    </tr>\n",
       "    <tr>\n",
       "      <th>30</th>\n",
       "      <td>[comedy, drama, music, romance]</td>\n",
       "      <td>[comedy, drama, music]</td>\n",
       "    </tr>\n",
       "    <tr>\n",
       "      <th>31</th>\n",
       "      <td>[drama, thriller]</td>\n",
       "      <td>[drama, thriller]</td>\n",
       "    </tr>\n",
       "    <tr>\n",
       "      <th>32</th>\n",
       "      <td>[drama]</td>\n",
       "      <td>[documentary]</td>\n",
       "    </tr>\n",
       "    <tr>\n",
       "      <th>33</th>\n",
       "      <td>[action, drama, mystery, thriller]</td>\n",
       "      <td>[comedy, drama]</td>\n",
       "    </tr>\n",
       "    <tr>\n",
       "      <th>34</th>\n",
       "      <td>[biography, documentary, history, music]</td>\n",
       "      <td>[documentary]</td>\n",
       "    </tr>\n",
       "    <tr>\n",
       "      <th>35</th>\n",
       "      <td>[drama]</td>\n",
       "      <td>[drama]</td>\n",
       "    </tr>\n",
       "    <tr>\n",
       "      <th>36</th>\n",
       "      <td>[comedy, drama, fantasy, romance]</td>\n",
       "      <td>[comedy, drama, romance]</td>\n",
       "    </tr>\n",
       "    <tr>\n",
       "      <th>37</th>\n",
       "      <td>[comedy, drama]</td>\n",
       "      <td>[comedy, drama]</td>\n",
       "    </tr>\n",
       "    <tr>\n",
       "      <th>38</th>\n",
       "      <td>[action, adventure, drama, fantasy, history]</td>\n",
       "      <td>[action, drama, thriller]</td>\n",
       "    </tr>\n",
       "    <tr>\n",
       "      <th>39</th>\n",
       "      <td>[drama, family]</td>\n",
       "      <td>[comedy, drama]</td>\n",
       "    </tr>\n",
       "    <tr>\n",
       "      <th>40</th>\n",
       "      <td>[action, adventure, drama, horror, mystery, th...</td>\n",
       "      <td>[horror, thriller]</td>\n",
       "    </tr>\n",
       "    <tr>\n",
       "      <th>41</th>\n",
       "      <td>[action, crime, drama]</td>\n",
       "      <td>[action, comedy, crime, drama, thriller]</td>\n",
       "    </tr>\n",
       "    <tr>\n",
       "      <th>42</th>\n",
       "      <td>[crime, drama, thriller]</td>\n",
       "      <td>[drama, thriller]</td>\n",
       "    </tr>\n",
       "    <tr>\n",
       "      <th>43</th>\n",
       "      <td>[action]</td>\n",
       "      <td>[comedy, documentary, music]</td>\n",
       "    </tr>\n",
       "    <tr>\n",
       "      <th>44</th>\n",
       "      <td>[drama]</td>\n",
       "      <td>[comedy, drama, romance]</td>\n",
       "    </tr>\n",
       "    <tr>\n",
       "      <th>45</th>\n",
       "      <td>[crime, drama]</td>\n",
       "      <td>[crime, drama]</td>\n",
       "    </tr>\n",
       "    <tr>\n",
       "      <th>46</th>\n",
       "      <td>[action, adventure, drama, history, war]</td>\n",
       "      <td>[drama]</td>\n",
       "    </tr>\n",
       "    <tr>\n",
       "      <th>47</th>\n",
       "      <td>[action, comedy, horror]</td>\n",
       "      <td>[comedy, horror]</td>\n",
       "    </tr>\n",
       "    <tr>\n",
       "      <th>48</th>\n",
       "      <td>[biography]</td>\n",
       "      <td>[documentary]</td>\n",
       "    </tr>\n",
       "    <tr>\n",
       "      <th>49</th>\n",
       "      <td>[drama]</td>\n",
       "      <td>[drama]</td>\n",
       "    </tr>\n",
       "  </tbody>\n",
       "</table>\n",
       "</div>"
      ],
      "text/plain": [
       "                                               actual  \\\n",
       "0                                             [drama]   \n",
       "1                                   [comedy, romance]   \n",
       "2                                 [action, adventure]   \n",
       "3                                             [drama]   \n",
       "4                                            [horror]   \n",
       "5     [adventure, animation, comedy, family, fantasy]   \n",
       "6                            [comedy, drama, romance]   \n",
       "7                                             [drama]   \n",
       "8                                     [comedy, music]   \n",
       "9                                  [horror, thriller]   \n",
       "10                                    [comedy, crime]   \n",
       "11                         [comedy, mystery, romance]   \n",
       "12                                            [drama]   \n",
       "13                                   [drama, history]   \n",
       "14                                           [horror]   \n",
       "15                                  [horror, mystery]   \n",
       "16                                   [drama, romance]   \n",
       "17                  [crime, drama, mystery, thriller]   \n",
       "18                                            [drama]   \n",
       "19                                  [drama, thriller]   \n",
       "20                                         [thriller]   \n",
       "21   [biography, documentary, family, history, sport]   \n",
       "22                                   [drama, romance]   \n",
       "23                                            [drama]   \n",
       "24                          [drama, fantasy, mystery]   \n",
       "25                                           [horror]   \n",
       "26                          [comedy, drama, thriller]   \n",
       "27                                            [drama]   \n",
       "28                                          [romance]   \n",
       "29                            [comedy, drama, family]   \n",
       "30                    [comedy, drama, music, romance]   \n",
       "31                                  [drama, thriller]   \n",
       "32                                            [drama]   \n",
       "33                 [action, drama, mystery, thriller]   \n",
       "34           [biography, documentary, history, music]   \n",
       "35                                            [drama]   \n",
       "36                  [comedy, drama, fantasy, romance]   \n",
       "37                                    [comedy, drama]   \n",
       "38       [action, adventure, drama, fantasy, history]   \n",
       "39                                    [drama, family]   \n",
       "40  [action, adventure, drama, horror, mystery, th...   \n",
       "41                             [action, crime, drama]   \n",
       "42                           [crime, drama, thriller]   \n",
       "43                                           [action]   \n",
       "44                                            [drama]   \n",
       "45                                     [crime, drama]   \n",
       "46           [action, adventure, drama, history, war]   \n",
       "47                           [action, comedy, horror]   \n",
       "48                                        [biography]   \n",
       "49                                            [drama]   \n",
       "\n",
       "                                 predictions  \n",
       "0                 [adventure, drama, family]  \n",
       "1                   [comedy, drama, romance]  \n",
       "2   [action, comedy, crime, drama, thriller]  \n",
       "3                           [comedy, horror]  \n",
       "4                            [drama, horror]  \n",
       "5                        [adventure, comedy]  \n",
       "6                            [comedy, drama]  \n",
       "7                                    [drama]  \n",
       "8                       [documentary, music]  \n",
       "9                  [comedy, fantasy, horror]  \n",
       "10          [comedy, crime, drama, thriller]  \n",
       "11                           [comedy, drama]  \n",
       "12                                   [drama]  \n",
       "13                      [documentary, drama]  \n",
       "14                      [documentary, drama]  \n",
       "15                           [comedy, drama]  \n",
       "16                           [comedy, drama]  \n",
       "17                           [comedy, drama]  \n",
       "18                           [comedy, drama]  \n",
       "19                           [comedy, drama]  \n",
       "20                         [drama, thriller]  \n",
       "21                      [documentary, sport]  \n",
       "22                [drama, mystery, thriller]  \n",
       "23                           [comedy, drama]  \n",
       "24                           [comedy, drama]  \n",
       "25                 [drama, horror, thriller]  \n",
       "26                                  [comedy]  \n",
       "27                           [comedy, drama]  \n",
       "28                  [comedy, drama, romance]  \n",
       "29                           [comedy, drama]  \n",
       "30                    [comedy, drama, music]  \n",
       "31                         [drama, thriller]  \n",
       "32                             [documentary]  \n",
       "33                           [comedy, drama]  \n",
       "34                             [documentary]  \n",
       "35                                   [drama]  \n",
       "36                  [comedy, drama, romance]  \n",
       "37                           [comedy, drama]  \n",
       "38                 [action, drama, thriller]  \n",
       "39                           [comedy, drama]  \n",
       "40                        [horror, thriller]  \n",
       "41  [action, comedy, crime, drama, thriller]  \n",
       "42                         [drama, thriller]  \n",
       "43              [comedy, documentary, music]  \n",
       "44                  [comedy, drama, romance]  \n",
       "45                            [crime, drama]  \n",
       "46                                   [drama]  \n",
       "47                          [comedy, horror]  \n",
       "48                             [documentary]  \n",
       "49                                   [drama]  "
      ]
     },
     "execution_count": 74,
     "metadata": {},
     "output_type": "execute_result"
    }
   ],
   "source": [
    "actual_vs_preds.head(50)"
   ]
  },
  {
   "cell_type": "markdown",
   "metadata": {},
   "source": [
    "## Synopsis modelling"
   ]
  },
  {
   "cell_type": "code",
   "execution_count": 75,
   "metadata": {},
   "outputs": [],
   "source": [
    "df_syn.synopsis = df_syn.synopsis.map(lambda x: x.split())"
   ]
  },
  {
   "cell_type": "code",
   "execution_count": 76,
   "metadata": {},
   "outputs": [
    {
     "name": "stdout",
     "output_type": "stream",
     "text": [
      "Time to build vocab: 0.21 mins\n",
      "Time to train the model: 0.34 mins\n",
      "Total number of words :  99322\n"
     ]
    }
   ],
   "source": [
    "w2v_model_2 = w2v_vocab_and_train(df_syn.synopsis)"
   ]
  },
  {
   "cell_type": "code",
   "execution_count": 77,
   "metadata": {},
   "outputs": [
    {
     "data": {
      "text/plain": [
       "[('grade', 0.751615047454834),\n",
       " ('teachers', 0.7260676622390747),\n",
       " ('seniors', 0.7028236985206604),\n",
       " ('junior', 0.6977225542068481),\n",
       " ('schools', 0.6925023794174194),\n",
       " ('elementary', 0.6690067052841187),\n",
       " ('substitute', 0.6639212369918823),\n",
       " ('boarding', 0.6597440242767334),\n",
       " ('classmates', 0.6554762125015259),\n",
       " ('senior', 0.6533634066581726)]"
      ]
     },
     "execution_count": 77,
     "metadata": {},
     "output_type": "execute_result"
    }
   ],
   "source": [
    "w2v_model_2.wv.most_similar(positive=['school'])"
   ]
  },
  {
   "cell_type": "code",
   "execution_count": 78,
   "metadata": {},
   "outputs": [
    {
     "data": {
      "text/plain": [
       "array([ 0.14160629, -0.08562592,  0.03965658, -0.11859296, -0.06752829,\n",
       "       -0.04812404,  0.00214354, -0.02762758, -0.04451223,  0.02234822,\n",
       "        0.04314379, -0.08799729,  0.09798771, -0.10826664,  0.01861241,\n",
       "        0.01334446, -0.00639286,  0.1157543 , -0.04436628, -0.17982946,\n",
       "        0.006863  , -0.02961881,  0.07578628,  0.17573068, -0.02627992,\n",
       "       -0.1551194 ,  0.07221949, -0.0928772 , -0.12712029,  0.11695955,\n",
       "       -0.00874289, -0.0407464 ,  0.00574969, -0.05439276, -0.08393162,\n",
       "       -0.0445708 , -0.1224477 ,  0.08609021, -0.03356223, -0.16799122,\n",
       "       -0.02246755, -0.00510103, -0.08574577, -0.05809294, -0.01599899,\n",
       "        0.01315146,  0.06369817, -0.00485771, -0.1389622 , -0.0771301 ,\n",
       "       -0.10212361,  0.02781782, -0.03703211, -0.01926325,  0.01332463,\n",
       "       -0.21333082, -0.04235957,  0.11927152, -0.03645523,  0.13997796,\n",
       "       -0.00235607, -0.10317247, -0.10093212, -0.13050623, -0.11795817,\n",
       "       -0.04194839,  0.05699179, -0.02334211, -0.01150744,  0.11035561,\n",
       "       -0.0118639 , -0.02227865, -0.10337713, -0.27322742, -0.00875375,\n",
       "       -0.10512701, -0.0314373 , -0.10167297, -0.09706829,  0.08225629,\n",
       "       -0.05671396, -0.07576197, -0.1217809 ,  0.12491563, -0.06453156,\n",
       "        0.0061196 , -0.03573003,  0.07720071,  0.01229211, -0.16781504,\n",
       "        0.01508982,  0.01135062,  0.09051215,  0.0447531 , -0.02706438,\n",
       "        0.10097826, -0.04148926,  0.05318126,  0.12287972, -0.03512533,\n",
       "        0.06634781, -0.06886171, -0.07421654, -0.03607476, -0.01663288,\n",
       "        0.04586153,  0.11528379,  0.01625173, -0.06245488, -0.21200794,\n",
       "        0.02697406, -0.00413282,  0.06787916,  0.0372541 ,  0.03771028,\n",
       "       -0.10954081,  0.13907097, -0.15326521, -0.08625207, -0.04723919,\n",
       "        0.00826312,  0.00187385,  0.14332235,  0.11884946,  0.08720876,\n",
       "       -0.09013122, -0.08372819,  0.1814045 ], dtype=float32)"
      ]
     },
     "execution_count": 78,
     "metadata": {},
     "output_type": "execute_result"
    }
   ],
   "source": [
    "w2v_model_2.wv.get_vector('like')"
   ]
  },
  {
   "cell_type": "code",
   "execution_count": 79,
   "metadata": {},
   "outputs": [
    {
     "data": {
      "text/plain": [
       "[('familys', 0.6265244483947754),\n",
       " ('father', 0.625190019607544),\n",
       " ('matriarch', 0.6047267913818359),\n",
       " ('relatives', 0.5980164408683777),\n",
       " ('patriarch', 0.5815290212631226),\n",
       " ('parents', 0.5784037113189697),\n",
       " ('household', 0.5751878023147583),\n",
       " ('youngest', 0.5566761493682861),\n",
       " ('extended', 0.5550682544708252),\n",
       " ('eldest', 0.5455334782600403)]"
      ]
     },
     "execution_count": 79,
     "metadata": {},
     "output_type": "execute_result"
    }
   ],
   "source": [
    "w2v_model_2.wv.most_similar('family')"
   ]
  },
  {
   "cell_type": "code",
   "execution_count": 80,
   "metadata": {},
   "outputs": [],
   "source": [
    "max_length_2 = find_max_length(df_syn.synopsis)\n",
    "\n",
    "vocab_size_2 = len(w2v_model_2.wv.vocab) + 1 # total number of words\n",
    "\n",
    "embed_dim_2 = 128 # embedding dimension\n",
    "\n",
    "n_classes_2 = len(one_hot_labels(df_syn.genre).columns)\n",
    "\n",
    "embed_matrix_2 = embedding_matrix(df_syn.synopsis, w2v_model_2, vocab_size_2, embed_dim_2)"
   ]
  },
  {
   "cell_type": "code",
   "execution_count": 81,
   "metadata": {},
   "outputs": [
    {
     "data": {
      "text/plain": [
       "21"
      ]
     },
     "execution_count": 81,
     "metadata": {},
     "output_type": "execute_result"
    }
   ],
   "source": [
    "n_classes_2"
   ]
  },
  {
   "cell_type": "code",
   "execution_count": 82,
   "metadata": {},
   "outputs": [],
   "source": [
    "X = sequence_and_pad(df_syn.synopsis)\n",
    "y = one_hot_labels(df_syn.genre).values"
   ]
  },
  {
   "cell_type": "code",
   "execution_count": 99,
   "metadata": {},
   "outputs": [],
   "source": [
    "x_train, x_test, y_train, y_test = train_test_split(X, y, test_size=0.20, random_state=123)"
   ]
  },
  {
   "cell_type": "code",
   "execution_count": 100,
   "metadata": {},
   "outputs": [],
   "source": [
    "model_2 = Sequential()\n",
    "\n",
    "model_2.add(Embedding(input_dim=vocab_size_2, output_dim=embed_dim_2, weights=[embed_matrix_2], input_length=max_length_2, trainable=False))\n",
    "\n",
    "model_2.add(Bidirectional(LSTM(32, return_sequences=False)))\n",
    "\n",
    "model_2.add(Dropout(0.1))\n",
    "\n",
    "model_2.add(BatchNormalization())\n",
    "\n",
    "model_2.add(Dense(n_classes_2, activation='sigmoid'))\n",
    "\n",
    "model_2.compile(optimizer=Adam(0.001), loss='binary_crossentropy', metrics=['accuracy'])"
   ]
  },
  {
   "cell_type": "code",
   "execution_count": 101,
   "metadata": {},
   "outputs": [
    {
     "name": "stdout",
     "output_type": "stream",
     "text": [
      "Model: \"sequential_2\"\n",
      "_________________________________________________________________\n",
      "Layer (type)                 Output Shape              Param #   \n",
      "=================================================================\n",
      "embedding_2 (Embedding)      (None, 1615, 128)         12713344  \n",
      "_________________________________________________________________\n",
      "bidirectional_3 (Bidirection (None, 64)                41216     \n",
      "_________________________________________________________________\n",
      "dropout_3 (Dropout)          (None, 64)                0         \n",
      "_________________________________________________________________\n",
      "batch_normalization_2 (Batch (None, 64)                256       \n",
      "_________________________________________________________________\n",
      "dense_2 (Dense)              (None, 21)                1365      \n",
      "=================================================================\n",
      "Total params: 12,756,181\n",
      "Trainable params: 42,709\n",
      "Non-trainable params: 12,713,472\n",
      "_________________________________________________________________\n"
     ]
    }
   ],
   "source": [
    "model_2.summary()"
   ]
  },
  {
   "cell_type": "code",
   "execution_count": 102,
   "metadata": {},
   "outputs": [],
   "source": [
    "# specify batch size and epochs for training.\n",
    "epochs=30\n",
    "batch_size=256"
   ]
  },
  {
   "cell_type": "code",
   "execution_count": 103,
   "metadata": {
    "scrolled": true
   },
   "outputs": [
    {
     "name": "stdout",
     "output_type": "stream",
     "text": [
      "Train on 6608 samples, validate on 1653 samples\n",
      "Epoch 1/30\n",
      "6608/6608 [==============================] - 6s 940us/sample - loss: 0.7086 - accuracy: 0.5361 - val_loss: 0.6559 - val_accuracy: 0.8829\n",
      "Epoch 2/30\n",
      "6608/6608 [==============================] - 4s 597us/sample - loss: 0.6352 - accuracy: 0.6608 - val_loss: 0.5932 - val_accuracy: 0.8869\n",
      "Epoch 3/30\n",
      "6608/6608 [==============================] - 4s 602us/sample - loss: 0.5483 - accuracy: 0.8087 - val_loss: 0.5010 - val_accuracy: 0.8852\n",
      "Epoch 4/30\n",
      "6608/6608 [==============================] - 4s 603us/sample - loss: 0.4465 - accuracy: 0.8791 - val_loss: 0.4071 - val_accuracy: 0.8859\n",
      "Epoch 5/30\n",
      "6608/6608 [==============================] - 4s 596us/sample - loss: 0.3609 - accuracy: 0.8924 - val_loss: 0.3456 - val_accuracy: 0.8858\n",
      "Epoch 6/30\n",
      "6608/6608 [==============================] - 4s 597us/sample - loss: 0.3099 - accuracy: 0.8952 - val_loss: 0.3091 - val_accuracy: 0.8887\n",
      "Epoch 7/30\n",
      "6608/6608 [==============================] - 4s 598us/sample - loss: 0.2796 - accuracy: 0.8980 - val_loss: 0.2893 - val_accuracy: 0.8896\n",
      "Epoch 8/30\n",
      "6608/6608 [==============================] - 4s 604us/sample - loss: 0.2637 - accuracy: 0.8999 - val_loss: 0.2851 - val_accuracy: 0.8892\n",
      "Epoch 9/30\n",
      "6608/6608 [==============================] - 4s 614us/sample - loss: 0.2645 - accuracy: 0.8967 - val_loss: 0.2748 - val_accuracy: 0.8901\n",
      "Epoch 10/30\n",
      "6608/6608 [==============================] - 4s 615us/sample - loss: 0.2506 - accuracy: 0.9012 - val_loss: 0.2621 - val_accuracy: 0.8904\n",
      "Epoch 11/30\n",
      "6608/6608 [==============================] - 4s 614us/sample - loss: 0.2471 - accuracy: 0.9018 - val_loss: 0.2576 - val_accuracy: 0.8941\n",
      "Epoch 12/30\n",
      "6608/6608 [==============================] - 4s 604us/sample - loss: 0.2441 - accuracy: 0.9025 - val_loss: 0.2555 - val_accuracy: 0.8969\n",
      "Epoch 13/30\n",
      "6608/6608 [==============================] - 4s 606us/sample - loss: 0.2394 - accuracy: 0.9034 - val_loss: 0.2438 - val_accuracy: 0.8992\n",
      "Epoch 14/30\n",
      "6608/6608 [==============================] - 4s 605us/sample - loss: 0.2365 - accuracy: 0.9055 - val_loss: 0.2378 - val_accuracy: 0.9028\n",
      "Epoch 15/30\n",
      "6608/6608 [==============================] - 4s 602us/sample - loss: 0.2346 - accuracy: 0.9062 - val_loss: 0.2365 - val_accuracy: 0.9026\n",
      "Epoch 16/30\n",
      "6608/6608 [==============================] - 4s 602us/sample - loss: 0.2341 - accuracy: 0.9055 - val_loss: 0.2538 - val_accuracy: 0.8965\n",
      "Epoch 17/30\n",
      "6608/6608 [==============================] - 4s 602us/sample - loss: 0.2332 - accuracy: 0.9058 - val_loss: 0.2279 - val_accuracy: 0.9082\n",
      "Epoch 18/30\n",
      "6608/6608 [==============================] - 4s 603us/sample - loss: 0.2286 - accuracy: 0.9075 - val_loss: 0.2340 - val_accuracy: 0.9069\n",
      "Epoch 19/30\n",
      "6608/6608 [==============================] - 4s 607us/sample - loss: 0.2370 - accuracy: 0.9050 - val_loss: 0.2384 - val_accuracy: 0.9061\n",
      "Epoch 20/30\n",
      "6608/6608 [==============================] - 4s 608us/sample - loss: 0.2319 - accuracy: 0.9057 - val_loss: 0.2300 - val_accuracy: 0.9076\n",
      "Epoch 21/30\n",
      "6608/6608 [==============================] - 4s 605us/sample - loss: 0.2275 - accuracy: 0.9076 - val_loss: 0.2269 - val_accuracy: 0.9085\n",
      "Epoch 22/30\n",
      "6608/6608 [==============================] - 4s 606us/sample - loss: 0.2339 - accuracy: 0.9048 - val_loss: 0.2321 - val_accuracy: 0.9069\n",
      "Epoch 23/30\n",
      "6608/6608 [==============================] - 4s 605us/sample - loss: 0.2304 - accuracy: 0.9061 - val_loss: 0.2352 - val_accuracy: 0.9068\n",
      "Epoch 24/30\n",
      "6608/6608 [==============================] - 4s 601us/sample - loss: 0.2475 - accuracy: 0.8988 - val_loss: 0.2569 - val_accuracy: 0.8934\n",
      "Epoch 25/30\n",
      "6608/6608 [==============================] - 4s 612us/sample - loss: 0.2372 - accuracy: 0.9034 - val_loss: 0.2306 - val_accuracy: 0.9065\n",
      "Epoch 26/30\n",
      "6608/6608 [==============================] - 4s 600us/sample - loss: 0.2292 - accuracy: 0.9066 - val_loss: 0.2308 - val_accuracy: 0.9064\n",
      "Epoch 27/30\n",
      "6608/6608 [==============================] - 4s 603us/sample - loss: 0.2273 - accuracy: 0.9063 - val_loss: 0.2378 - val_accuracy: 0.9023\n",
      "Epoch 28/30\n",
      "6608/6608 [==============================] - 4s 599us/sample - loss: 0.2257 - accuracy: 0.9086 - val_loss: 0.2300 - val_accuracy: 0.9067\n",
      "Epoch 29/30\n",
      "6608/6608 [==============================] - 4s 598us/sample - loss: 0.2249 - accuracy: 0.9081 - val_loss: 0.2218 - val_accuracy: 0.9109\n",
      "Epoch 30/30\n",
      "6608/6608 [==============================] - 4s 596us/sample - loss: 0.2245 - accuracy: 0.9085 - val_loss: 0.2240 - val_accuracy: 0.9094\n"
     ]
    },
    {
     "data": {
      "text/plain": [
       "<tensorflow.python.keras.callbacks.History at 0x1c05c608288>"
      ]
     },
     "execution_count": 103,
     "metadata": {},
     "output_type": "execute_result"
    }
   ],
   "source": [
    "# fitting the model.\n",
    "model_2.fit(x_train,y_train, epochs=epochs,batch_size=batch_size,validation_data=(x_test,y_test))"
   ]
  },
  {
   "cell_type": "code",
   "execution_count": 104,
   "metadata": {},
   "outputs": [
    {
     "name": "stdout",
     "output_type": "stream",
     "text": [
      "WARNING:tensorflow:From c:\\users\\13479\\anaconda3\\envs\\tf-gpu\\lib\\site-packages\\tensorflow_core\\python\\ops\\resource_variable_ops.py:1786: calling BaseResourceVariable.__init__ (from tensorflow.python.ops.resource_variable_ops) with constraint is deprecated and will be removed in a future version.\n",
      "Instructions for updating:\n",
      "If using Keras pass *_constraint arguments to layers.\n",
      "INFO:tensorflow:Assets written to: my_model_2\\assets\n"
     ]
    }
   ],
   "source": [
    "# model_2.save('my_model_2')"
   ]
  },
  {
   "cell_type": "code",
   "execution_count": 105,
   "metadata": {},
   "outputs": [
    {
     "data": {
      "text/plain": [
       "<AxesSubplot:>"
      ]
     },
     "execution_count": 105,
     "metadata": {},
     "output_type": "execute_result"
    },
    {
     "data": {
      "image/png": "[encoded data removed]",
      "text/plain": [
       "<Figure size 576x396 with 1 Axes>"
      ]
     },
     "metadata": {},
     "output_type": "display_data"
    }
   ],
   "source": [
    "loss_2 = pd.DataFrame(model_2.history.history)\n",
    "loss_2[['loss', 'val_loss']][2:].plot()"
   ]
  },
  {
   "cell_type": "code",
   "execution_count": 106,
   "metadata": {},
   "outputs": [
    {
     "data": {
      "text/plain": [
       "<AxesSubplot:>"
      ]
     },
     "execution_count": 106,
     "metadata": {},
     "output_type": "execute_result"
    },
    {
     "data": {
      "image/png": "[encoded data removed]",
      "text/plain": [
       "<Figure size 576x396 with 1 Axes>"
      ]
     },
     "metadata": {},
     "output_type": "display_data"
    }
   ],
   "source": [
    "loss_2[['accuracy', 'val_accuracy']][2:].plot()"
   ]
  },
  {
   "cell_type": "code",
   "execution_count": 91,
   "metadata": {},
   "outputs": [],
   "source": [
    "# model_2 = tf.keras.models.load_model('my_model_2')"
   ]
  },
  {
   "cell_type": "code",
   "execution_count": 107,
   "metadata": {},
   "outputs": [],
   "source": [
    "actual_2 = y_test\n",
    "predictions_2 = model_2.predict(x_test)"
   ]
  },
  {
   "cell_type": "code",
   "execution_count": 108,
   "metadata": {},
   "outputs": [
    {
     "data": {
      "text/plain": [
       "array([0.00631773, 0.00827481, 0.00323178, 0.02500881, 0.39342663,\n",
       "       0.03074602, 0.00798566, 0.789581  , 0.01913959, 0.02047212,\n",
       "       0.00702533, 0.04181992, 0.04003656, 0.01180624, 0.03862275,\n",
       "       0.00330225, 0.45375243, 0.01017664, 0.0774362 , 0.00385976,\n",
       "       0.0020665 ], dtype=float32)"
      ]
     },
     "execution_count": 108,
     "metadata": {},
     "output_type": "execute_result"
    }
   ],
   "source": [
    "predictions_2[1]"
   ]
  },
  {
   "cell_type": "code",
   "execution_count": 109,
   "metadata": {},
   "outputs": [
    {
     "name": "stdout",
     "output_type": "stream",
     "text": [
      "--------------------------------------------------\n",
      "F1-measure: 0.5383 for 0.1 threshold\n",
      "--------------------------------------------------\n",
      "F1-measure: 0.5888 for 0.2 threshold\n",
      "--------------------------------------------------\n",
      "F1-measure: 0.5932 for 0.3 threshold\n",
      "--------------------------------------------------\n",
      "F1-measure: 0.5804 for 0.4 threshold\n",
      "--------------------------------------------------\n",
      "F1-measure: 0.5402 for 0.5 threshold\n",
      "--------------------------------------------------\n",
      "F1-measure: 0.4658 for 0.6 threshold\n",
      "--------------------------------------------------\n",
      "F1-measure: 0.3493 for 0.7 threshold\n",
      "--------------------------------------------------\n",
      "F1-measure: 0.2015 for 0.8 threshold\n",
      "--------------------------------------------------\n",
      "F1-measure: 0.0566 for 0.9 threshold\n"
     ]
    }
   ],
   "source": [
    "preds = model_2.predict(x_test)\n",
    "thresholds = [0.1,0.2,0.3,0.4,0.5,0.6,0.7,0.8,0.9]\n",
    "for thr in thresholds:\n",
    "    pred = preds.copy()\n",
    "    \n",
    "    pred = [apply_trh(x,treshold=thr) for x in pred]\n",
    "  \n",
    "    f1 = f1_score(y_test, pred, average='micro')\n",
    "   \n",
    "    print('--------------------------------------------------')\n",
    "    print('F1-measure: {:.4f} for {} threshold'.format(f1, thr))"
   ]
  },
  {
   "cell_type": "code",
   "execution_count": 110,
   "metadata": {},
   "outputs": [],
   "source": [
    "predictions_2 = [apply_trh(x, 0.3) for x in predictions_2]\n",
    "predictions_2 = [reverse_dummies(x) for x in predictions_2]\n",
    "actual_2 = [reverse_dummies(x) for x in actual_2]"
   ]
  },
  {
   "cell_type": "code",
   "execution_count": 111,
   "metadata": {},
   "outputs": [],
   "source": [
    "actual_vs_preds_2 = pd.DataFrame()"
   ]
  },
  {
   "cell_type": "code",
   "execution_count": 112,
   "metadata": {},
   "outputs": [],
   "source": [
    "actual_vs_preds_2['actual'] = actual_2\n",
    "actual_vs_preds_2['predictions'] = predictions_2"
   ]
  },
  {
   "cell_type": "code",
   "execution_count": 114,
   "metadata": {},
   "outputs": [
    {
     "data": {
      "text/html": [
       "<div>\n",
       "<style scoped>\n",
       "    .dataframe tbody tr th:only-of-type {\n",
       "        vertical-align: middle;\n",
       "    }\n",
       "\n",
       "    .dataframe tbody tr th {\n",
       "        vertical-align: top;\n",
       "    }\n",
       "\n",
       "    .dataframe thead th {\n",
       "        text-align: right;\n",
       "    }\n",
       "</style>\n",
       "<table border=\"1\" class=\"dataframe\">\n",
       "  <thead>\n",
       "    <tr style=\"text-align: right;\">\n",
       "      <th></th>\n",
       "      <th>actual</th>\n",
       "      <th>predictions</th>\n",
       "    </tr>\n",
       "  </thead>\n",
       "  <tbody>\n",
       "    <tr>\n",
       "      <th>300</th>\n",
       "      <td>[documentary]</td>\n",
       "      <td>[biography, documentary, news]</td>\n",
       "    </tr>\n",
       "    <tr>\n",
       "      <th>301</th>\n",
       "      <td>[action, comedy, sport]</td>\n",
       "      <td>[action, comedy, documentary, sport]</td>\n",
       "    </tr>\n",
       "    <tr>\n",
       "      <th>302</th>\n",
       "      <td>[action, adult, adventure, comedy, drama, musi...</td>\n",
       "      <td>[action, documentary, sport]</td>\n",
       "    </tr>\n",
       "    <tr>\n",
       "      <th>303</th>\n",
       "      <td>[biography, documentary, news]</td>\n",
       "      <td>[biography, documentary, news]</td>\n",
       "    </tr>\n",
       "    <tr>\n",
       "      <th>304</th>\n",
       "      <td>[crime, documentary, fantasy, mystery]</td>\n",
       "      <td>[animation, crime, documentary]</td>\n",
       "    </tr>\n",
       "    <tr>\n",
       "      <th>305</th>\n",
       "      <td>[documentary]</td>\n",
       "      <td>[biography, documentary]</td>\n",
       "    </tr>\n",
       "    <tr>\n",
       "      <th>306</th>\n",
       "      <td>[documentary]</td>\n",
       "      <td>[biography, documentary, news]</td>\n",
       "    </tr>\n",
       "    <tr>\n",
       "      <th>307</th>\n",
       "      <td>[documentary]</td>\n",
       "      <td>[documentary]</td>\n",
       "    </tr>\n",
       "    <tr>\n",
       "      <th>308</th>\n",
       "      <td>[biography, comedy, documentary]</td>\n",
       "      <td>[biography, documentary, news]</td>\n",
       "    </tr>\n",
       "    <tr>\n",
       "      <th>309</th>\n",
       "      <td>[animation, documentary, fantasy, news, thriller]</td>\n",
       "      <td>[documentary, fantasy]</td>\n",
       "    </tr>\n",
       "    <tr>\n",
       "      <th>310</th>\n",
       "      <td>[action, adult, biography]</td>\n",
       "      <td>[biography]</td>\n",
       "    </tr>\n",
       "    <tr>\n",
       "      <th>311</th>\n",
       "      <td>[news]</td>\n",
       "      <td>[biography, documentary, news]</td>\n",
       "    </tr>\n",
       "    <tr>\n",
       "      <th>312</th>\n",
       "      <td>[biography, documentary]</td>\n",
       "      <td>[biography, documentary, news]</td>\n",
       "    </tr>\n",
       "    <tr>\n",
       "      <th>313</th>\n",
       "      <td>[adult, biography, documentary]</td>\n",
       "      <td>[comedy, documentary, history, sport]</td>\n",
       "    </tr>\n",
       "    <tr>\n",
       "      <th>314</th>\n",
       "      <td>[history]</td>\n",
       "      <td>[history, sport]</td>\n",
       "    </tr>\n",
       "    <tr>\n",
       "      <th>315</th>\n",
       "      <td>[documentary]</td>\n",
       "      <td>[biography, documentary]</td>\n",
       "    </tr>\n",
       "    <tr>\n",
       "      <th>316</th>\n",
       "      <td>[documentary, horror]</td>\n",
       "      <td>[crime, documentary]</td>\n",
       "    </tr>\n",
       "    <tr>\n",
       "      <th>317</th>\n",
       "      <td>[documentary, history]</td>\n",
       "      <td>[documentary, history, musical, sport]</td>\n",
       "    </tr>\n",
       "    <tr>\n",
       "      <th>318</th>\n",
       "      <td>[history, musical]</td>\n",
       "      <td>[documentary, history, musical, sport]</td>\n",
       "    </tr>\n",
       "    <tr>\n",
       "      <th>319</th>\n",
       "      <td>[documentary]</td>\n",
       "      <td>[biography, documentary, news]</td>\n",
       "    </tr>\n",
       "    <tr>\n",
       "      <th>320</th>\n",
       "      <td>[action, history]</td>\n",
       "      <td>[action, documentary, history, sport]</td>\n",
       "    </tr>\n",
       "    <tr>\n",
       "      <th>321</th>\n",
       "      <td>[action, biography, comedy, sport]</td>\n",
       "      <td>[comedy, documentary, sport]</td>\n",
       "    </tr>\n",
       "    <tr>\n",
       "      <th>322</th>\n",
       "      <td>[crime]</td>\n",
       "      <td>[animation, crime]</td>\n",
       "    </tr>\n",
       "    <tr>\n",
       "      <th>323</th>\n",
       "      <td>[crime]</td>\n",
       "      <td>[crime, horror]</td>\n",
       "    </tr>\n",
       "    <tr>\n",
       "      <th>324</th>\n",
       "      <td>[action]</td>\n",
       "      <td>[action, biography, comedy, sport]</td>\n",
       "    </tr>\n",
       "    <tr>\n",
       "      <th>325</th>\n",
       "      <td>[documentary, fantasy, thriller]</td>\n",
       "      <td>[action, documentary, fantasy, thriller]</td>\n",
       "    </tr>\n",
       "    <tr>\n",
       "      <th>326</th>\n",
       "      <td>[animation, documentary, fantasy]</td>\n",
       "      <td>[documentary]</td>\n",
       "    </tr>\n",
       "    <tr>\n",
       "      <th>327</th>\n",
       "      <td>[biography, documentary, news]</td>\n",
       "      <td>[biography, documentary]</td>\n",
       "    </tr>\n",
       "    <tr>\n",
       "      <th>328</th>\n",
       "      <td>[action, adult]</td>\n",
       "      <td>[action, adult, sport]</td>\n",
       "    </tr>\n",
       "    <tr>\n",
       "      <th>329</th>\n",
       "      <td>[documentary, history, sport]</td>\n",
       "      <td>[biography, documentary]</td>\n",
       "    </tr>\n",
       "    <tr>\n",
       "      <th>330</th>\n",
       "      <td>[documentary, sport]</td>\n",
       "      <td>[documentary, sport]</td>\n",
       "    </tr>\n",
       "    <tr>\n",
       "      <th>331</th>\n",
       "      <td>[comedy, documentary, history, sport]</td>\n",
       "      <td>[biography, comedy, documentary, sport]</td>\n",
       "    </tr>\n",
       "    <tr>\n",
       "      <th>332</th>\n",
       "      <td>[documentary]</td>\n",
       "      <td>[biography, documentary, news]</td>\n",
       "    </tr>\n",
       "    <tr>\n",
       "      <th>333</th>\n",
       "      <td>[documentary]</td>\n",
       "      <td>[biography, documentary]</td>\n",
       "    </tr>\n",
       "    <tr>\n",
       "      <th>334</th>\n",
       "      <td>[action, adult, adventure, biography, document...</td>\n",
       "      <td>[action, adult, history, sport]</td>\n",
       "    </tr>\n",
       "    <tr>\n",
       "      <th>335</th>\n",
       "      <td>[documentary, family, history, musical, sport]</td>\n",
       "      <td>[documentary, history, musical, sport]</td>\n",
       "    </tr>\n",
       "    <tr>\n",
       "      <th>336</th>\n",
       "      <td>[action, adult, biography, comedy, documentary...</td>\n",
       "      <td>[biography, documentary, news]</td>\n",
       "    </tr>\n",
       "    <tr>\n",
       "      <th>337</th>\n",
       "      <td>[animation, documentary, news]</td>\n",
       "      <td>[biography, documentary, news]</td>\n",
       "    </tr>\n",
       "    <tr>\n",
       "      <th>338</th>\n",
       "      <td>[action, comedy, documentary, sport]</td>\n",
       "      <td>[biography, documentary, sport]</td>\n",
       "    </tr>\n",
       "    <tr>\n",
       "      <th>339</th>\n",
       "      <td>[comedy, documentary]</td>\n",
       "      <td>[action, documentary, sport]</td>\n",
       "    </tr>\n",
       "    <tr>\n",
       "      <th>340</th>\n",
       "      <td>[biography]</td>\n",
       "      <td>[action, adult, documentary, sport]</td>\n",
       "    </tr>\n",
       "    <tr>\n",
       "      <th>341</th>\n",
       "      <td>[action, family, history, news, sport]</td>\n",
       "      <td>[biography, history]</td>\n",
       "    </tr>\n",
       "    <tr>\n",
       "      <th>342</th>\n",
       "      <td>[comedy, musical, sport]</td>\n",
       "      <td>[action, comedy, documentary, sport]</td>\n",
       "    </tr>\n",
       "    <tr>\n",
       "      <th>343</th>\n",
       "      <td>[crime, romance]</td>\n",
       "      <td>[crime]</td>\n",
       "    </tr>\n",
       "    <tr>\n",
       "      <th>344</th>\n",
       "      <td>[history, musical, sport]</td>\n",
       "      <td>[documentary, history, musical, sport]</td>\n",
       "    </tr>\n",
       "    <tr>\n",
       "      <th>345</th>\n",
       "      <td>[crime]</td>\n",
       "      <td>[crime, documentary]</td>\n",
       "    </tr>\n",
       "    <tr>\n",
       "      <th>346</th>\n",
       "      <td>[biography, documentary]</td>\n",
       "      <td>[biography, documentary, news]</td>\n",
       "    </tr>\n",
       "    <tr>\n",
       "      <th>347</th>\n",
       "      <td>[biography, documentary]</td>\n",
       "      <td>[biography, documentary, news]</td>\n",
       "    </tr>\n",
       "    <tr>\n",
       "      <th>348</th>\n",
       "      <td>[action, comedy, documentary, sport]</td>\n",
       "      <td>[action, comedy, documentary, sport]</td>\n",
       "    </tr>\n",
       "    <tr>\n",
       "      <th>349</th>\n",
       "      <td>[action, adult, drama, family, sport]</td>\n",
       "      <td>[action, documentary, sport]</td>\n",
       "    </tr>\n",
       "  </tbody>\n",
       "</table>\n",
       "</div>"
      ],
      "text/plain": [
       "                                                actual  \\\n",
       "300                                      [documentary]   \n",
       "301                            [action, comedy, sport]   \n",
       "302  [action, adult, adventure, comedy, drama, musi...   \n",
       "303                     [biography, documentary, news]   \n",
       "304             [crime, documentary, fantasy, mystery]   \n",
       "305                                      [documentary]   \n",
       "306                                      [documentary]   \n",
       "307                                      [documentary]   \n",
       "308                   [biography, comedy, documentary]   \n",
       "309  [animation, documentary, fantasy, news, thriller]   \n",
       "310                         [action, adult, biography]   \n",
       "311                                             [news]   \n",
       "312                           [biography, documentary]   \n",
       "313                    [adult, biography, documentary]   \n",
       "314                                          [history]   \n",
       "315                                      [documentary]   \n",
       "316                              [documentary, horror]   \n",
       "317                             [documentary, history]   \n",
       "318                                 [history, musical]   \n",
       "319                                      [documentary]   \n",
       "320                                  [action, history]   \n",
       "321                 [action, biography, comedy, sport]   \n",
       "322                                            [crime]   \n",
       "323                                            [crime]   \n",
       "324                                           [action]   \n",
       "325                   [documentary, fantasy, thriller]   \n",
       "326                  [animation, documentary, fantasy]   \n",
       "327                     [biography, documentary, news]   \n",
       "328                                    [action, adult]   \n",
       "329                      [documentary, history, sport]   \n",
       "330                               [documentary, sport]   \n",
       "331              [comedy, documentary, history, sport]   \n",
       "332                                      [documentary]   \n",
       "333                                      [documentary]   \n",
       "334  [action, adult, adventure, biography, document...   \n",
       "335     [documentary, family, history, musical, sport]   \n",
       "336  [action, adult, biography, comedy, documentary...   \n",
       "337                     [animation, documentary, news]   \n",
       "338               [action, comedy, documentary, sport]   \n",
       "339                              [comedy, documentary]   \n",
       "340                                        [biography]   \n",
       "341             [action, family, history, news, sport]   \n",
       "342                           [comedy, musical, sport]   \n",
       "343                                   [crime, romance]   \n",
       "344                          [history, musical, sport]   \n",
       "345                                            [crime]   \n",
       "346                           [biography, documentary]   \n",
       "347                           [biography, documentary]   \n",
       "348               [action, comedy, documentary, sport]   \n",
       "349              [action, adult, drama, family, sport]   \n",
       "\n",
       "                                  predictions  \n",
       "300            [biography, documentary, news]  \n",
       "301      [action, comedy, documentary, sport]  \n",
       "302              [action, documentary, sport]  \n",
       "303            [biography, documentary, news]  \n",
       "304           [animation, crime, documentary]  \n",
       "305                  [biography, documentary]  \n",
       "306            [biography, documentary, news]  \n",
       "307                             [documentary]  \n",
       "308            [biography, documentary, news]  \n",
       "309                    [documentary, fantasy]  \n",
       "310                               [biography]  \n",
       "311            [biography, documentary, news]  \n",
       "312            [biography, documentary, news]  \n",
       "313     [comedy, documentary, history, sport]  \n",
       "314                          [history, sport]  \n",
       "315                  [biography, documentary]  \n",
       "316                      [crime, documentary]  \n",
       "317    [documentary, history, musical, sport]  \n",
       "318    [documentary, history, musical, sport]  \n",
       "319            [biography, documentary, news]  \n",
       "320     [action, documentary, history, sport]  \n",
       "321              [comedy, documentary, sport]  \n",
       "322                        [animation, crime]  \n",
       "323                           [crime, horror]  \n",
       "324        [action, biography, comedy, sport]  \n",
       "325  [action, documentary, fantasy, thriller]  \n",
       "326                             [documentary]  \n",
       "327                  [biography, documentary]  \n",
       "328                    [action, adult, sport]  \n",
       "329                  [biography, documentary]  \n",
       "330                      [documentary, sport]  \n",
       "331   [biography, comedy, documentary, sport]  \n",
       "332            [biography, documentary, news]  \n",
       "333                  [biography, documentary]  \n",
       "334           [action, adult, history, sport]  \n",
       "335    [documentary, history, musical, sport]  \n",
       "336            [biography, documentary, news]  \n",
       "337            [biography, documentary, news]  \n",
       "338           [biography, documentary, sport]  \n",
       "339              [action, documentary, sport]  \n",
       "340       [action, adult, documentary, sport]  \n",
       "341                      [biography, history]  \n",
       "342      [action, comedy, documentary, sport]  \n",
       "343                                   [crime]  \n",
       "344    [documentary, history, musical, sport]  \n",
       "345                      [crime, documentary]  \n",
       "346            [biography, documentary, news]  \n",
       "347            [biography, documentary, news]  \n",
       "348      [action, comedy, documentary, sport]  \n",
       "349              [action, documentary, sport]  "
      ]
     },
     "execution_count": 114,
     "metadata": {},
     "output_type": "execute_result"
    }
   ],
   "source": [
    "actual_vs_preds_2[300:350]"
   ]
  },
  {
   "cell_type": "markdown",
   "metadata": {},
   "source": [
    "## Conclusion"
   ]
  },
  {
   "cell_type": "markdown",
   "metadata": {},
   "source": [
    "Trivia model turned out to be slightly better. The results for both models are pretty satisfying. The best threshold turned out to be 0.3 which means genre must get 30% probability of occurence to be assigned to a movie.  The F1 score of ~0.6 is pretty good considering number of labels: 22 for tirvia and 21 for synopsis.\n",
    "\n",
    "Interesting that applying stemming and lemmatization as well as bigrams did not improve model's preformance but even made it a bit worse. "
   ]
  },
  {
   "cell_type": "markdown",
   "metadata": {},
   "source": [
    "Future work would be:\n",
    "\n",
    "- Train data on more examples\n",
    "- Test more model architechtures"
   ]
  },
  {
   "cell_type": "code",
   "execution_count": null,
   "metadata": {},
   "outputs": [],
   "source": []
  }
 ],
 "metadata": {
  "kernelspec": {
   "display_name": "Python 3",
   "language": "python",
   "name": "python3"
  },
  "language_info": {
   "codemirror_mode": {
    "name": "ipython",
    "version": 3
   },
   "file_extension": ".py",
   "mimetype": "text/x-python",
   "name": "python",
   "nbconvert_exporter": "python",
   "pygments_lexer": "ipython3",
   "version": "3.7.7"
  }
 },
 "nbformat": 4,
 "nbformat_minor": 2
}
